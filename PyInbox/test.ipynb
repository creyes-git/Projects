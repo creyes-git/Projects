{
 "cells": [
  {
   "cell_type": "code",
   "execution_count": null,
   "metadata": {},
   "outputs": [
    {
     "ename": "",
     "evalue": "",
     "output_type": "error",
     "traceback": [
      "\u001b[1;31mRunning cells with 'Python 3.9.2' requires the ipykernel package.\n",
      "\u001b[1;31mRun the following command to install 'ipykernel' into the Python environment. \n",
      "\u001b[1;31mCommand: '/usr/bin/python3 -m pip install ipykernel -U --user --force-reinstall'"
     ]
    }
   ],
   "source": [
    "from newsapi import NewsApiClient\n",
    "from datetime import datetime, timedelta\n",
    "import pandas as pd\n",
    "import os\n",
    "\n",
    "newsapi = NewsApiClient(api_key = os.getenv('NEWS_API_KEY'))\n",
    "\n",
    "last_week = (datetime.today() - timedelta(days=7)).strftime(\"%Y-%m-%d\")\n",
    "\n",
    "\n",
    "def get_df_weekly_news(keyword, category):\n",
    "    \n",
    "    news = newsapi.get_top_headlines(q = keyword, category = category.lower(), country = \"us\")\n",
    "    \n",
    "    df = pd.DataFrame(news[\"articles\"])\n",
    "    #df = df[[\"title\", \"description\", \"url\", \"urlToImage\"]]\n",
    "    \n",
    "    return df\n",
    "\n",
    "df = get_df_weekly_news(\"Trump\", \"Business\")\n",
    "\n",
    "df"
   ]
  }
 ],
 "metadata": {
  "kernelspec": {
   "display_name": "Python 3",
   "language": "python",
   "name": "python3"
  },
  "language_info": {
   "codemirror_mode": {
    "name": "ipython",
    "version": 3
   },
   "file_extension": ".py",
   "mimetype": "text/x-python",
   "name": "python",
   "nbconvert_exporter": "python",
   "pygments_lexer": "ipython3",
   "version": "3.11.10"
  }
 },
 "nbformat": 4,
 "nbformat_minor": 2
}
