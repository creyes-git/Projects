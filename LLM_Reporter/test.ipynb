{
 "cells": [
  {
   "cell_type": "code",
   "execution_count": 14,
   "metadata": {},
   "outputs": [],
   "source": [
    "from newsapi import NewsApiClient, const\n",
    "from datetime import datetime, timedelta\n",
    "import pandas as pd\n",
    "import os\n",
    "\n",
    "newsapi = NewsApiClient(api_key = os.getenv('NEWS_API_KEY'))"
   ]
  },
  {
   "cell_type": "code",
   "execution_count": 43,
   "metadata": {},
   "outputs": [
    {
     "name": "stdout",
     "output_type": "stream",
     "text": [
      "STOCKHOLM -- John Hopfield and Geoffrey Hinton were awarded the Nobel Prize in physics Tuesday for discoveries and inventions that formed the building blocks of machine learning.\n",
      "This years two Nobe… [+2347 chars]\n",
      "\n",
      "The U.S. Marshals have arrested a man who has eluded authorities for five months after they say he shot somebody in the head before setting them on fire, authorities said.\n",
      "Michael H. Hurley, 37, has… [+1487 chars]\n",
      "\n",
      "A 40-year-old man has fallen approximately 200 feet to his death while canyoneering with three others at Zion National Park in Utah, authorities confirmed.\n",
      "The incident occurred on Saturday when the… [+1529 chars]\n",
      "\n",
      "Three members of a medical helicopter team died Monday in an accident in Kentucky, the company that runs the service confirmed in a statement.\n",
      "\"Air Evac Lifeteam is heartbroken to share that three c… [+1032 chars]\n",
      "\n",
      "Vice President Kamala Harris indicated in a CBS News \"60 Minutes\" interview Monday that she could get her economic policies through a Republican-controlled Congress, despite the potential for opposit… [+3959 chars]\n",
      "\n",
      "A federal judge on Monday ordered Demetrius Haley, one of the three former Memphis Police officers convicted in the beating death of Tyre Nichols, to be held without bond until sentencing on Jan. 22,… [+3179 chars]\n",
      "\n",
      "During Secretary of State Antony Blinken's first emergency mission to the Middle East in the wake of Hamas' Oct. 7 terror attack, he emerged from a marathon session of meetings in an Israeli command … [+8543 chars]\n",
      "\n",
      "SANTA FE, N.M. -- The weapons supervisor in the fatal shooting of a cinematographer by Alec Baldwin on the set of the Western film Rust\" pleaded guilty Monday to a separate criminal charge of carryin… [+2459 chars]\n",
      "\n",
      "The largest regulated water and wastewater utility company in the United States announced Monday that it was the victim of a cyberattack, prompting the firm to pause billing to customers.\n",
      "New Jersey… [+885 chars]\n",
      "\n",
      "Florida Gov. Ron DeSantis has refused to take a call with Vice President Kamala Harris about Hurricane Milton, a source close to the governor told ABC News.\n",
      "The DeSantis team believes the call from … [+2420 chars]\n",
      "\n"
     ]
    }
   ],
   "source": [
    "last_week = (datetime.today() - timedelta(days=7)).strftime(\"%Y-%m-%d\")\n",
    "\n",
    "news = newsapi.get_top_headlines(sources = 'abc-news', \n",
    "                                 page_size = 100)\n",
    "\n",
    "for i in news[\"articles\"]:\n",
    "    print(f'{i[\"content\"]}\\n')"
   ]
  }
 ],
 "metadata": {
  "kernelspec": {
   "display_name": "Python 3",
   "language": "python",
   "name": "python3"
  },
  "language_info": {
   "codemirror_mode": {
    "name": "ipython",
    "version": 3
   },
   "file_extension": ".py",
   "mimetype": "text/x-python",
   "name": "python",
   "nbconvert_exporter": "python",
   "pygments_lexer": "ipython3",
   "version": "3.11.10"
  }
 },
 "nbformat": 4,
 "nbformat_minor": 2
}
