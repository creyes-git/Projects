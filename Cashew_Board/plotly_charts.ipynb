{
 "cells": [
  {
   "cell_type": "code",
   "execution_count": 4,
   "metadata": {},
   "outputs": [
    {
     "data": {
      "text/html": [
       "<div>\n",
       "<style scoped>\n",
       "    .dataframe tbody tr th:only-of-type {\n",
       "        vertical-align: middle;\n",
       "    }\n",
       "\n",
       "    .dataframe tbody tr th {\n",
       "        vertical-align: top;\n",
       "    }\n",
       "\n",
       "    .dataframe thead th {\n",
       "        text-align: right;\n",
       "    }\n",
       "</style>\n",
       "<table border=\"1\" class=\"dataframe\">\n",
       "  <thead>\n",
       "    <tr style=\"text-align: right;\">\n",
       "      <th></th>\n",
       "      <th>category name</th>\n",
       "      <th>color</th>\n",
       "      <th>amount</th>\n",
       "    </tr>\n",
       "  </thead>\n",
       "  <tbody>\n",
       "    <tr>\n",
       "      <th>4</th>\n",
       "      <td>Salary</td>\n",
       "      <td>4284922730</td>\n",
       "      <td>56760.0</td>\n",
       "    </tr>\n",
       "    <tr>\n",
       "      <th>6</th>\n",
       "      <td>SignUp + Refers</td>\n",
       "      <td>4289415100</td>\n",
       "      <td>1037.0</td>\n",
       "    </tr>\n",
       "    <tr>\n",
       "      <th>7</th>\n",
       "      <td>Tip</td>\n",
       "      <td>4289415100</td>\n",
       "      <td>607.0</td>\n",
       "    </tr>\n",
       "    <tr>\n",
       "      <th>0</th>\n",
       "      <td>401k - 25% Match</td>\n",
       "      <td>4280723098</td>\n",
       "      <td>268.0</td>\n",
       "    </tr>\n",
       "    <tr>\n",
       "      <th>1</th>\n",
       "      <td>Coin Saving</td>\n",
       "      <td>4289415100</td>\n",
       "      <td>165.0</td>\n",
       "    </tr>\n",
       "    <tr>\n",
       "      <th>5</th>\n",
       "      <td>Sells</td>\n",
       "      <td>4289415100</td>\n",
       "      <td>60.0</td>\n",
       "    </tr>\n",
       "    <tr>\n",
       "      <th>3</th>\n",
       "      <td>Other Income</td>\n",
       "      <td>4289415100</td>\n",
       "      <td>50.0</td>\n",
       "    </tr>\n",
       "    <tr>\n",
       "      <th>2</th>\n",
       "      <td>Gifts</td>\n",
       "      <td>4289415100</td>\n",
       "      <td>50.0</td>\n",
       "    </tr>\n",
       "  </tbody>\n",
       "</table>\n",
       "</div>"
      ],
      "text/plain": [
       "      category name       color   amount\n",
       "4            Salary  4284922730  56760.0\n",
       "6   SignUp + Refers  4289415100   1037.0\n",
       "7               Tip  4289415100    607.0\n",
       "0  401k - 25% Match  4280723098    268.0\n",
       "1       Coin Saving  4289415100    165.0\n",
       "5             Sells  4289415100     60.0\n",
       "3      Other Income  4289415100     50.0\n",
       "2             Gifts  4289415100     50.0"
      ]
     },
     "execution_count": 4,
     "metadata": {},
     "output_type": "execute_result"
    }
   ],
   "source": [
    "import pandas as pd\n",
    "\n",
    "df = pd.read_csv(r\"/workspaces/Projects/cashew-2025-01-08-16-06-59-262156.csv\", engine = \"pyarrow\", keep_default_na = False)\n",
    "\n",
    "\n",
    "df = df[df[\"income\"] == True] # Keeps only incomes and subcategory if not empty\n",
    "df[\"category name\"] = df.apply(lambda row: row[\"subcategory name\"] if row[\"subcategory name\"] != \"\" else row[\"category name\"], axis = 1)\n",
    "df = df.groupby(by = [\"category name\", \"color\"]).agg({\"amount\": \"sum\"}).reset_index().sort_values(by = \"amount\", ascending = False)\n",
    "\n",
    "df"
   ]
  }
 ],
 "metadata": {
  "kernelspec": {
   "display_name": "Python 3",
   "language": "python",
   "name": "python3"
  },
  "language_info": {
   "codemirror_mode": {
    "name": "ipython",
    "version": 3
   },
   "file_extension": ".py",
   "mimetype": "text/x-python",
   "name": "python",
   "nbconvert_exporter": "python",
   "pygments_lexer": "ipython3",
   "version": "3.11.11"
  }
 },
 "nbformat": 4,
 "nbformat_minor": 2
}
