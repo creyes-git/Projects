{
 "cells": [
  {
   "cell_type": "code",
   "execution_count": 13,
   "metadata": {},
   "outputs": [
    {
     "data": {
      "text/plain": [
       "False"
      ]
     },
     "execution_count": 13,
     "metadata": {},
     "output_type": "execute_result"
    }
   ],
   "source": [
    "import pandas as pd\n",
    "\n",
    "df = pd.read_csv(r\"/workspaces/Projects/Cashew_Board/scripts/cashew-2024-11-21-12-52-44-481082.csv\", engine = \"pyarrow\", keep_default_na = False)\n",
    "\n",
    "columns = ['account', 'amount','currency', 'title', 'note', 'date', 'income', 'type', 'category name', 'subcategory name', 'color', 'icon', 'emoji', 'budget', 'objective']\n",
    "\n",
    "for i in df.columns:\n",
    "    if i in columns:\n",
    "        validation = True\n",
    "    else:\n",
    "        validation = False\n",
    "        break"
   ]
  }
 ],
 "metadata": {
  "kernelspec": {
   "display_name": "Python 3",
   "language": "python",
   "name": "python3"
  },
  "language_info": {
   "codemirror_mode": {
    "name": "ipython",
    "version": 3
   },
   "file_extension": ".py",
   "mimetype": "text/x-python",
   "name": "python",
   "nbconvert_exporter": "python",
   "pygments_lexer": "ipython3",
   "version": "3.11.11"
  }
 },
 "nbformat": 4,
 "nbformat_minor": 2
}
