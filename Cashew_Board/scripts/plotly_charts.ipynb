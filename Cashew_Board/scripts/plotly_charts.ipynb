{
 "cells": [
  {
   "cell_type": "code",
   "execution_count": 1,
   "metadata": {},
   "outputs": [
    {
     "data": {
      "text/html": [
       "<div>\n",
       "<style scoped>\n",
       "    .dataframe tbody tr th:only-of-type {\n",
       "        vertical-align: middle;\n",
       "    }\n",
       "\n",
       "    .dataframe tbody tr th {\n",
       "        vertical-align: top;\n",
       "    }\n",
       "\n",
       "    .dataframe thead th {\n",
       "        text-align: right;\n",
       "    }\n",
       "</style>\n",
       "<table border=\"1\" class=\"dataframe\">\n",
       "  <thead>\n",
       "    <tr style=\"text-align: right;\">\n",
       "      <th></th>\n",
       "      <th>account</th>\n",
       "      <th>amount</th>\n",
       "      <th>currency</th>\n",
       "      <th>title</th>\n",
       "      <th>note</th>\n",
       "      <th>date</th>\n",
       "      <th>income</th>\n",
       "      <th>type</th>\n",
       "      <th>category name</th>\n",
       "      <th>subcategory name</th>\n",
       "      <th>color</th>\n",
       "      <th>icon</th>\n",
       "      <th>emoji</th>\n",
       "      <th>budget</th>\n",
       "      <th>objective</th>\n",
       "    </tr>\n",
       "  </thead>\n",
       "  <tbody>\n",
       "    <tr>\n",
       "      <th>0</th>\n",
       "      <td>Main</td>\n",
       "      <td>12.0</td>\n",
       "      <td>USD</td>\n",
       "      <td></td>\n",
       "      <td></td>\n",
       "      <td>2024-11-21 12:48:18</td>\n",
       "      <td>False</td>\n",
       "      <td>null</td>\n",
       "      <td>Taxi</td>\n",
       "      <td></td>\n",
       "      <td>#ffee58</td>\n",
       "      <td>taxi(1).png</td>\n",
       "      <td></td>\n",
       "      <td></td>\n",
       "      <td></td>\n",
       "    </tr>\n",
       "    <tr>\n",
       "      <th>1</th>\n",
       "      <td>Main</td>\n",
       "      <td>8.0</td>\n",
       "      <td>USD</td>\n",
       "      <td></td>\n",
       "      <td></td>\n",
       "      <td>2024-11-21 12:48:14</td>\n",
       "      <td>False</td>\n",
       "      <td>null</td>\n",
       "      <td>Taxi</td>\n",
       "      <td></td>\n",
       "      <td>#ffee58</td>\n",
       "      <td>taxi(1).png</td>\n",
       "      <td></td>\n",
       "      <td></td>\n",
       "      <td></td>\n",
       "    </tr>\n",
       "    <tr>\n",
       "      <th>2</th>\n",
       "      <td>Main</td>\n",
       "      <td>8.0</td>\n",
       "      <td>USD</td>\n",
       "      <td></td>\n",
       "      <td></td>\n",
       "      <td>2024-11-21 07:12:03</td>\n",
       "      <td>False</td>\n",
       "      <td>null</td>\n",
       "      <td>Taxi</td>\n",
       "      <td></td>\n",
       "      <td>#ffee58</td>\n",
       "      <td>taxi(1).png</td>\n",
       "      <td></td>\n",
       "      <td></td>\n",
       "      <td></td>\n",
       "    </tr>\n",
       "    <tr>\n",
       "      <th>3</th>\n",
       "      <td>Main</td>\n",
       "      <td>8.0</td>\n",
       "      <td>USD</td>\n",
       "      <td></td>\n",
       "      <td></td>\n",
       "      <td>2024-11-21 07:11:59</td>\n",
       "      <td>False</td>\n",
       "      <td>null</td>\n",
       "      <td>Taxi</td>\n",
       "      <td></td>\n",
       "      <td>#ffee58</td>\n",
       "      <td>taxi(1).png</td>\n",
       "      <td></td>\n",
       "      <td></td>\n",
       "      <td></td>\n",
       "    </tr>\n",
       "    <tr>\n",
       "      <th>4</th>\n",
       "      <td>Main</td>\n",
       "      <td>20.0</td>\n",
       "      <td>USD</td>\n",
       "      <td></td>\n",
       "      <td>Proton Duo wi</td>\n",
       "      <td>2024-11-20 18:31:51</td>\n",
       "      <td>False</td>\n",
       "      <td>null</td>\n",
       "      <td>Subscription</td>\n",
       "      <td></td>\n",
       "      <td>#ff7043</td>\n",
       "      <td>subscription.png</td>\n",
       "      <td></td>\n",
       "      <td></td>\n",
       "      <td></td>\n",
       "    </tr>\n",
       "    <tr>\n",
       "      <th>...</th>\n",
       "      <td>...</td>\n",
       "      <td>...</td>\n",
       "      <td>...</td>\n",
       "      <td>...</td>\n",
       "      <td>...</td>\n",
       "      <td>...</td>\n",
       "      <td>...</td>\n",
       "      <td>...</td>\n",
       "      <td>...</td>\n",
       "      <td>...</td>\n",
       "      <td>...</td>\n",
       "      <td>...</td>\n",
       "      <td>...</td>\n",
       "      <td>...</td>\n",
       "      <td>...</td>\n",
       "    </tr>\n",
       "    <tr>\n",
       "      <th>1283</th>\n",
       "      <td>Main</td>\n",
       "      <td>1.0</td>\n",
       "      <td>USD</td>\n",
       "      <td></td>\n",
       "      <td></td>\n",
       "      <td>2024-01-03 06:46:28</td>\n",
       "      <td>False</td>\n",
       "      <td>null</td>\n",
       "      <td>Groceries</td>\n",
       "      <td></td>\n",
       "      <td>#4caf50</td>\n",
       "      <td>groceries.png</td>\n",
       "      <td></td>\n",
       "      <td></td>\n",
       "      <td></td>\n",
       "    </tr>\n",
       "    <tr>\n",
       "      <th>1284</th>\n",
       "      <td>Main</td>\n",
       "      <td>10.0</td>\n",
       "      <td>USD</td>\n",
       "      <td></td>\n",
       "      <td></td>\n",
       "      <td>2024-01-02 16:38:20</td>\n",
       "      <td>True</td>\n",
       "      <td>null</td>\n",
       "      <td>Tip</td>\n",
       "      <td></td>\n",
       "      <td>#66bb6a</td>\n",
       "      <td>dollar-coin.png</td>\n",
       "      <td></td>\n",
       "      <td></td>\n",
       "      <td></td>\n",
       "    </tr>\n",
       "    <tr>\n",
       "      <th>1285</th>\n",
       "      <td>Main</td>\n",
       "      <td>16.0</td>\n",
       "      <td>USD</td>\n",
       "      <td></td>\n",
       "      <td></td>\n",
       "      <td>2024-01-02 16:37:50</td>\n",
       "      <td>False</td>\n",
       "      <td>null</td>\n",
       "      <td>Taxi</td>\n",
       "      <td></td>\n",
       "      <td>#ffee58</td>\n",
       "      <td>taxi(1).png</td>\n",
       "      <td></td>\n",
       "      <td></td>\n",
       "      <td></td>\n",
       "    </tr>\n",
       "    <tr>\n",
       "      <th>1286</th>\n",
       "      <td>Main</td>\n",
       "      <td>14.0</td>\n",
       "      <td>USD</td>\n",
       "      <td></td>\n",
       "      <td></td>\n",
       "      <td>2024-01-02 16:37:26</td>\n",
       "      <td>False</td>\n",
       "      <td>null</td>\n",
       "      <td>Taxi</td>\n",
       "      <td></td>\n",
       "      <td>#ffee58</td>\n",
       "      <td>taxi(1).png</td>\n",
       "      <td></td>\n",
       "      <td></td>\n",
       "      <td></td>\n",
       "    </tr>\n",
       "    <tr>\n",
       "      <th>1287</th>\n",
       "      <td>Main</td>\n",
       "      <td>650.0</td>\n",
       "      <td>USD</td>\n",
       "      <td></td>\n",
       "      <td></td>\n",
       "      <td>2024-01-02 16:36:10</td>\n",
       "      <td>False</td>\n",
       "      <td>null</td>\n",
       "      <td>Rent</td>\n",
       "      <td></td>\n",
       "      <td>#ab47bc</td>\n",
       "      <td>home2.png</td>\n",
       "      <td></td>\n",
       "      <td></td>\n",
       "      <td></td>\n",
       "    </tr>\n",
       "  </tbody>\n",
       "</table>\n",
       "<p>1288 rows × 15 columns</p>\n",
       "</div>"
      ],
      "text/plain": [
       "     account  amount currency title           note                date  \\\n",
       "0       Main    12.0      USD                      2024-11-21 12:48:18   \n",
       "1       Main     8.0      USD                      2024-11-21 12:48:14   \n",
       "2       Main     8.0      USD                      2024-11-21 07:12:03   \n",
       "3       Main     8.0      USD                      2024-11-21 07:11:59   \n",
       "4       Main    20.0      USD        Proton Duo wi 2024-11-20 18:31:51   \n",
       "...      ...     ...      ...   ...            ...                 ...   \n",
       "1283    Main     1.0      USD                      2024-01-03 06:46:28   \n",
       "1284    Main    10.0      USD                      2024-01-02 16:38:20   \n",
       "1285    Main    16.0      USD                      2024-01-02 16:37:50   \n",
       "1286    Main    14.0      USD                      2024-01-02 16:37:26   \n",
       "1287    Main   650.0      USD                      2024-01-02 16:36:10   \n",
       "\n",
       "      income  type category name subcategory name    color              icon  \\\n",
       "0      False  null          Taxi                   #ffee58       taxi(1).png   \n",
       "1      False  null          Taxi                   #ffee58       taxi(1).png   \n",
       "2      False  null          Taxi                   #ffee58       taxi(1).png   \n",
       "3      False  null          Taxi                   #ffee58       taxi(1).png   \n",
       "4      False  null  Subscription                   #ff7043  subscription.png   \n",
       "...      ...   ...           ...              ...      ...               ...   \n",
       "1283   False  null     Groceries                   #4caf50     groceries.png   \n",
       "1284    True  null           Tip                   #66bb6a   dollar-coin.png   \n",
       "1285   False  null          Taxi                   #ffee58       taxi(1).png   \n",
       "1286   False  null          Taxi                   #ffee58       taxi(1).png   \n",
       "1287   False  null          Rent                   #ab47bc         home2.png   \n",
       "\n",
       "     emoji budget objective  \n",
       "0                            \n",
       "1                            \n",
       "2                            \n",
       "3                            \n",
       "4                            \n",
       "...    ...    ...       ...  \n",
       "1283                         \n",
       "1284                         \n",
       "1285                         \n",
       "1286                         \n",
       "1287                         \n",
       "\n",
       "[1288 rows x 15 columns]"
      ]
     },
     "execution_count": 1,
     "metadata": {},
     "output_type": "execute_result"
    }
   ],
   "source": [
    "import pandas as pd \n",
    "import plotly.express as px\n",
    "import plotly.graph_objects as go\n",
    "import os\n",
    "\n",
    "data_folder = r\"/workspaces/Projects/Cashew_Board/data\"\n",
    "file_on_folder = os.listdir(data_folder)[0]\n",
    "\n",
    "def android_to_hex(color_code):\n",
    "    hex_code = \"#{:06x}\".format(color_code & 0xffffff)\n",
    "    return hex_code\n",
    "\n",
    "df = pd.read_csv(fr\"{data_folder}/{file_on_folder}\", engine = \"pyarrow\", keep_default_na = False)\n",
    "df[\"color\"] = df[\"color\"].apply(android_to_hex)\n",
    "df['amount'] = df['amount'].abs() # Transform negative values to positive\n",
    "\n",
    "df"
   ]
  },
  {
   "cell_type": "code",
   "execution_count": 24,
   "metadata": {},
   "outputs": [
    {
     "name": "stderr",
     "output_type": "stream",
     "text": [
      "/tmp/ipykernel_18857/375199775.py:4: SettingWithCopyWarning:\n",
      "\n",
      "\n",
      "A value is trying to be set on a copy of a slice from a DataFrame.\n",
      "Try using .loc[row_indexer,col_indexer] = value instead\n",
      "\n",
      "See the caveats in the documentation: https://pandas.pydata.org/pandas-docs/stable/user_guide/indexing.html#returning-a-view-versus-a-copy\n",
      "\n"
     ]
    },
    {
     "data": {
      "application/vnd.plotly.v1+json": {
       "config": {
        "plotlyServerURL": "https://plot.ly"
       },
       "data": [
        {
         "hoverlabel": {
          "font": {
           "size": 15
          }
         },
         "hovertemplate": "$%{y} On %{x} <extra></extra>: Subcategory: %{hovertext}",
         "hovertext": [
          "Electronics",
          "Electronics",
          "Electronics",
          "Electronics",
          "Electronics",
          "Electronics",
          "Electronics",
          "Home Items",
          "Cleanliness",
          "Home Items",
          "Electronics",
          "Beauty",
          "Electronics",
          "Electronics",
          "Electronics",
          "Cleanliness",
          "Cleanliness",
          "Electronics",
          "Beauty",
          "Coleccionables",
          "Electronics",
          "Electronics",
          "Electronics",
          "Cleanliness",
          "Beauty",
          "Electronics",
          "Beauty",
          "Electronics",
          "Beauty",
          "Electronics",
          "Cleanliness",
          "Electronics",
          "Electronics",
          "Electronics",
          "Electronics",
          "Electronics",
          "Coleccionables",
          "Home Items",
          "Electronics",
          "Home Items",
          "Coleccionables",
          "Coleccionables",
          "Electronics",
          "Electronics",
          "Electronics",
          "Electronics",
          "Electronics",
          "Electronics",
          "Electronics",
          "Electronics",
          "Electronics",
          "Home Items",
          "Electronics",
          "Home Items",
          "Electronics"
         ],
         "marker": {
          "color": [
           "#ef5350",
           "#ef5350",
           "#ef5350",
           "#ef5350",
           "#ef5350",
           "#ef5350",
           "#ef5350",
           "#ef5350",
           "#ef5350",
           "#ef5350",
           "#ef5350",
           "#ef5350",
           "#ef5350",
           "#ef5350",
           "#ef5350",
           "#ef5350",
           "#ef5350",
           "#ef5350",
           "#ef5350",
           "#ef5350",
           "#ef5350",
           "#ef5350",
           "#ef5350",
           "#ef5350",
           "#ef5350",
           "#ef5350",
           "#ef5350",
           "#ef5350",
           "#ef5350",
           "#ef5350",
           "#ef5350",
           "#ef5350",
           "#ef5350",
           "#ef5350",
           "#ef5350",
           "#ef5350",
           "#ef5350",
           "#ef5350",
           "#ef5350",
           "#ef5350",
           "#ef5350",
           "#ef5350",
           "#ef5350",
           "#ef5350",
           "#ef5350",
           "#ef5350",
           "#ef5350",
           "#ef5350",
           "#ef5350",
           "#ef5350",
           "#ef5350",
           "#ef5350",
           "#ef5350",
           "#ef5350",
           "#ef5350"
          ],
          "size": [
           10,
           7.666666666666667,
           26.666666666666668,
           66,
           6.666666666666667,
           6.666666666666667,
           10.666666666666666,
           14.333333333333334,
           3.3333333333333335,
           5,
           16.666666666666668,
           0.6666666666666666,
           10,
           10,
           10,
           7.333333333333333,
           4.666666666666667,
           11,
           6.666666666666667,
           7.666666666666667,
           10,
           10,
           11,
           3.3333333333333335,
           2.6666666666666665,
           6.666666666666667,
           6.666666666666667,
           10,
           0.6666666666666666,
           10,
           4,
           1.3333333333333333,
           1.3333333333333333,
           24,
           10,
           0.6666666666666666,
           0.6666666666666666,
           8.333333333333334,
           0.6666666666666666,
           7.333333333333333,
           4.333333333333333,
           8.666666666666666,
           10,
           10,
           10,
           10,
           11.666666666666666,
           0.3333333333333333,
           10,
           10,
           16.666666666666668,
           2.3333333333333335,
           3.6666666666666665,
           4.666666666666667,
           16.666666666666668
          ]
         },
         "mode": "markers",
         "showlegend": false,
         "type": "scatter",
         "x": [
          "2024-11-14T09:08:46",
          "2024-11-13T19:26:13",
          "2024-11-12T08:12:22",
          "2024-11-11T21:09:15",
          "2024-11-09T08:16:28",
          "2024-10-27T12:43:44",
          "2024-10-21T13:26:17",
          "2024-10-20T22:24:46",
          "2024-10-11T21:20:49",
          "2024-10-11T21:14:08",
          "2024-10-03T20:35:29",
          "2024-09-30T07:44:07",
          "2024-09-12T22:47:25",
          "2024-09-12T22:47:08",
          "2024-09-12T22:46:48",
          "2024-09-08T14:20:34",
          "2024-08-17T13:33:56",
          "2024-08-14T06:50:31",
          "2024-08-08T20:04:30",
          "2024-08-04T14:27:06",
          "2024-08-02T12:56:23",
          "2024-08-02T12:56:07",
          "2024-07-17T20:09:50",
          "2024-07-13T13:18:11",
          "2024-07-10T10:39:05",
          "2024-06-23T10:38:58",
          "2024-06-23T09:05:21",
          "2024-06-17T00:21:42",
          "2024-06-16T13:42:27",
          "2024-05-29T08:56:02",
          "2024-05-13T18:07:19",
          "2024-05-05T11:12:18",
          "2024-05-02T20:37:59",
          "2024-05-01T11:13:22",
          "2024-04-29T17:45:45",
          "2024-04-27T20:18:08",
          "2024-04-27T20:17:42",
          "2024-04-26T19:39:08",
          "2024-04-26T15:33:14",
          "2024-04-26T13:33:28",
          "2024-04-20T16:00:36",
          "2024-04-10T18:12:43",
          "2024-04-03T21:26:53",
          "2024-04-03T21:25:44",
          "2024-03-17T11:41:38",
          "2024-03-05T22:53:50",
          "2024-03-01T19:39:12",
          "2024-02-20T09:56:50",
          "2024-02-13T19:16:18",
          "2024-01-31T19:04:05",
          "2024-01-31T19:03:35",
          "2024-01-27T23:09:33",
          "2024-01-17T09:50:03",
          "2024-01-15T08:55:17",
          "2024-01-06T23:41:20"
         ],
         "x0": [
          "Electronics",
          "Electronics",
          "Electronics",
          "Electronics",
          "Electronics",
          "Electronics",
          "Electronics",
          "Home Items",
          "Cleanliness",
          "Home Items",
          "Electronics",
          "Beauty",
          "Electronics",
          "Electronics",
          "Electronics",
          "Cleanliness",
          "Cleanliness",
          "Electronics",
          "Beauty",
          "Coleccionables",
          "Electronics",
          "Electronics",
          "Electronics",
          "Cleanliness",
          "Beauty",
          "Electronics",
          "Beauty",
          "Electronics",
          "Beauty",
          "Electronics",
          "Cleanliness",
          "Electronics",
          "Electronics",
          "Electronics",
          "Electronics",
          "Electronics",
          "Coleccionables",
          "Home Items",
          "Electronics",
          "Home Items",
          "Coleccionables",
          "Coleccionables",
          "Electronics",
          "Electronics",
          "Electronics",
          "Electronics",
          "Electronics",
          "Electronics",
          "Electronics",
          "Electronics",
          "Electronics",
          "Home Items",
          "Electronics",
          "Home Items",
          "Electronics"
         ],
         "y": [
          30,
          23,
          80,
          330,
          20,
          20,
          32,
          43,
          10,
          15,
          50,
          2,
          30,
          30,
          30,
          22,
          14,
          33,
          20,
          23,
          30,
          30,
          33,
          10,
          8,
          20,
          20,
          30,
          2,
          30,
          12,
          4,
          4,
          120,
          30,
          2,
          2,
          25,
          2,
          22,
          13,
          26,
          30,
          30,
          30,
          30,
          35,
          1,
          30,
          30,
          50,
          7,
          11,
          14,
          50
         ]
        }
       ],
       "layout": {
        "height": 500,
        "template": {
         "data": {
          "bar": [
           {
            "error_x": {
             "color": "#f2f5fa"
            },
            "error_y": {
             "color": "#f2f5fa"
            },
            "marker": {
             "line": {
              "color": "rgb(17,17,17)",
              "width": 0.5
             },
             "pattern": {
              "fillmode": "overlay",
              "size": 10,
              "solidity": 0.2
             }
            },
            "type": "bar"
           }
          ],
          "barpolar": [
           {
            "marker": {
             "line": {
              "color": "rgb(17,17,17)",
              "width": 0.5
             },
             "pattern": {
              "fillmode": "overlay",
              "size": 10,
              "solidity": 0.2
             }
            },
            "type": "barpolar"
           }
          ],
          "carpet": [
           {
            "aaxis": {
             "endlinecolor": "#A2B1C6",
             "gridcolor": "#506784",
             "linecolor": "#506784",
             "minorgridcolor": "#506784",
             "startlinecolor": "#A2B1C6"
            },
            "baxis": {
             "endlinecolor": "#A2B1C6",
             "gridcolor": "#506784",
             "linecolor": "#506784",
             "minorgridcolor": "#506784",
             "startlinecolor": "#A2B1C6"
            },
            "type": "carpet"
           }
          ],
          "choropleth": [
           {
            "colorbar": {
             "outlinewidth": 0,
             "ticks": ""
            },
            "type": "choropleth"
           }
          ],
          "contour": [
           {
            "colorbar": {
             "outlinewidth": 0,
             "ticks": ""
            },
            "colorscale": [
             [
              0,
              "#0d0887"
             ],
             [
              0.1111111111111111,
              "#46039f"
             ],
             [
              0.2222222222222222,
              "#7201a8"
             ],
             [
              0.3333333333333333,
              "#9c179e"
             ],
             [
              0.4444444444444444,
              "#bd3786"
             ],
             [
              0.5555555555555556,
              "#d8576b"
             ],
             [
              0.6666666666666666,
              "#ed7953"
             ],
             [
              0.7777777777777778,
              "#fb9f3a"
             ],
             [
              0.8888888888888888,
              "#fdca26"
             ],
             [
              1,
              "#f0f921"
             ]
            ],
            "type": "contour"
           }
          ],
          "contourcarpet": [
           {
            "colorbar": {
             "outlinewidth": 0,
             "ticks": ""
            },
            "type": "contourcarpet"
           }
          ],
          "heatmap": [
           {
            "colorbar": {
             "outlinewidth": 0,
             "ticks": ""
            },
            "colorscale": [
             [
              0,
              "#0d0887"
             ],
             [
              0.1111111111111111,
              "#46039f"
             ],
             [
              0.2222222222222222,
              "#7201a8"
             ],
             [
              0.3333333333333333,
              "#9c179e"
             ],
             [
              0.4444444444444444,
              "#bd3786"
             ],
             [
              0.5555555555555556,
              "#d8576b"
             ],
             [
              0.6666666666666666,
              "#ed7953"
             ],
             [
              0.7777777777777778,
              "#fb9f3a"
             ],
             [
              0.8888888888888888,
              "#fdca26"
             ],
             [
              1,
              "#f0f921"
             ]
            ],
            "type": "heatmap"
           }
          ],
          "heatmapgl": [
           {
            "colorbar": {
             "outlinewidth": 0,
             "ticks": ""
            },
            "colorscale": [
             [
              0,
              "#0d0887"
             ],
             [
              0.1111111111111111,
              "#46039f"
             ],
             [
              0.2222222222222222,
              "#7201a8"
             ],
             [
              0.3333333333333333,
              "#9c179e"
             ],
             [
              0.4444444444444444,
              "#bd3786"
             ],
             [
              0.5555555555555556,
              "#d8576b"
             ],
             [
              0.6666666666666666,
              "#ed7953"
             ],
             [
              0.7777777777777778,
              "#fb9f3a"
             ],
             [
              0.8888888888888888,
              "#fdca26"
             ],
             [
              1,
              "#f0f921"
             ]
            ],
            "type": "heatmapgl"
           }
          ],
          "histogram": [
           {
            "marker": {
             "pattern": {
              "fillmode": "overlay",
              "size": 10,
              "solidity": 0.2
             }
            },
            "type": "histogram"
           }
          ],
          "histogram2d": [
           {
            "colorbar": {
             "outlinewidth": 0,
             "ticks": ""
            },
            "colorscale": [
             [
              0,
              "#0d0887"
             ],
             [
              0.1111111111111111,
              "#46039f"
             ],
             [
              0.2222222222222222,
              "#7201a8"
             ],
             [
              0.3333333333333333,
              "#9c179e"
             ],
             [
              0.4444444444444444,
              "#bd3786"
             ],
             [
              0.5555555555555556,
              "#d8576b"
             ],
             [
              0.6666666666666666,
              "#ed7953"
             ],
             [
              0.7777777777777778,
              "#fb9f3a"
             ],
             [
              0.8888888888888888,
              "#fdca26"
             ],
             [
              1,
              "#f0f921"
             ]
            ],
            "type": "histogram2d"
           }
          ],
          "histogram2dcontour": [
           {
            "colorbar": {
             "outlinewidth": 0,
             "ticks": ""
            },
            "colorscale": [
             [
              0,
              "#0d0887"
             ],
             [
              0.1111111111111111,
              "#46039f"
             ],
             [
              0.2222222222222222,
              "#7201a8"
             ],
             [
              0.3333333333333333,
              "#9c179e"
             ],
             [
              0.4444444444444444,
              "#bd3786"
             ],
             [
              0.5555555555555556,
              "#d8576b"
             ],
             [
              0.6666666666666666,
              "#ed7953"
             ],
             [
              0.7777777777777778,
              "#fb9f3a"
             ],
             [
              0.8888888888888888,
              "#fdca26"
             ],
             [
              1,
              "#f0f921"
             ]
            ],
            "type": "histogram2dcontour"
           }
          ],
          "mesh3d": [
           {
            "colorbar": {
             "outlinewidth": 0,
             "ticks": ""
            },
            "type": "mesh3d"
           }
          ],
          "parcoords": [
           {
            "line": {
             "colorbar": {
              "outlinewidth": 0,
              "ticks": ""
             }
            },
            "type": "parcoords"
           }
          ],
          "pie": [
           {
            "automargin": true,
            "type": "pie"
           }
          ],
          "scatter": [
           {
            "marker": {
             "line": {
              "color": "#283442"
             }
            },
            "type": "scatter"
           }
          ],
          "scatter3d": [
           {
            "line": {
             "colorbar": {
              "outlinewidth": 0,
              "ticks": ""
             }
            },
            "marker": {
             "colorbar": {
              "outlinewidth": 0,
              "ticks": ""
             }
            },
            "type": "scatter3d"
           }
          ],
          "scattercarpet": [
           {
            "marker": {
             "colorbar": {
              "outlinewidth": 0,
              "ticks": ""
             }
            },
            "type": "scattercarpet"
           }
          ],
          "scattergeo": [
           {
            "marker": {
             "colorbar": {
              "outlinewidth": 0,
              "ticks": ""
             }
            },
            "type": "scattergeo"
           }
          ],
          "scattergl": [
           {
            "marker": {
             "line": {
              "color": "#283442"
             }
            },
            "type": "scattergl"
           }
          ],
          "scattermapbox": [
           {
            "marker": {
             "colorbar": {
              "outlinewidth": 0,
              "ticks": ""
             }
            },
            "type": "scattermapbox"
           }
          ],
          "scatterpolar": [
           {
            "marker": {
             "colorbar": {
              "outlinewidth": 0,
              "ticks": ""
             }
            },
            "type": "scatterpolar"
           }
          ],
          "scatterpolargl": [
           {
            "marker": {
             "colorbar": {
              "outlinewidth": 0,
              "ticks": ""
             }
            },
            "type": "scatterpolargl"
           }
          ],
          "scatterternary": [
           {
            "marker": {
             "colorbar": {
              "outlinewidth": 0,
              "ticks": ""
             }
            },
            "type": "scatterternary"
           }
          ],
          "surface": [
           {
            "colorbar": {
             "outlinewidth": 0,
             "ticks": ""
            },
            "colorscale": [
             [
              0,
              "#0d0887"
             ],
             [
              0.1111111111111111,
              "#46039f"
             ],
             [
              0.2222222222222222,
              "#7201a8"
             ],
             [
              0.3333333333333333,
              "#9c179e"
             ],
             [
              0.4444444444444444,
              "#bd3786"
             ],
             [
              0.5555555555555556,
              "#d8576b"
             ],
             [
              0.6666666666666666,
              "#ed7953"
             ],
             [
              0.7777777777777778,
              "#fb9f3a"
             ],
             [
              0.8888888888888888,
              "#fdca26"
             ],
             [
              1,
              "#f0f921"
             ]
            ],
            "type": "surface"
           }
          ],
          "table": [
           {
            "cells": {
             "fill": {
              "color": "#506784"
             },
             "line": {
              "color": "rgb(17,17,17)"
             }
            },
            "header": {
             "fill": {
              "color": "#2a3f5f"
             },
             "line": {
              "color": "rgb(17,17,17)"
             }
            },
            "type": "table"
           }
          ]
         },
         "layout": {
          "annotationdefaults": {
           "arrowcolor": "#f2f5fa",
           "arrowhead": 0,
           "arrowwidth": 1
          },
          "autotypenumbers": "strict",
          "coloraxis": {
           "colorbar": {
            "outlinewidth": 0,
            "ticks": ""
           }
          },
          "colorscale": {
           "diverging": [
            [
             0,
             "#8e0152"
            ],
            [
             0.1,
             "#c51b7d"
            ],
            [
             0.2,
             "#de77ae"
            ],
            [
             0.3,
             "#f1b6da"
            ],
            [
             0.4,
             "#fde0ef"
            ],
            [
             0.5,
             "#f7f7f7"
            ],
            [
             0.6,
             "#e6f5d0"
            ],
            [
             0.7,
             "#b8e186"
            ],
            [
             0.8,
             "#7fbc41"
            ],
            [
             0.9,
             "#4d9221"
            ],
            [
             1,
             "#276419"
            ]
           ],
           "sequential": [
            [
             0,
             "#0d0887"
            ],
            [
             0.1111111111111111,
             "#46039f"
            ],
            [
             0.2222222222222222,
             "#7201a8"
            ],
            [
             0.3333333333333333,
             "#9c179e"
            ],
            [
             0.4444444444444444,
             "#bd3786"
            ],
            [
             0.5555555555555556,
             "#d8576b"
            ],
            [
             0.6666666666666666,
             "#ed7953"
            ],
            [
             0.7777777777777778,
             "#fb9f3a"
            ],
            [
             0.8888888888888888,
             "#fdca26"
            ],
            [
             1,
             "#f0f921"
            ]
           ],
           "sequentialminus": [
            [
             0,
             "#0d0887"
            ],
            [
             0.1111111111111111,
             "#46039f"
            ],
            [
             0.2222222222222222,
             "#7201a8"
            ],
            [
             0.3333333333333333,
             "#9c179e"
            ],
            [
             0.4444444444444444,
             "#bd3786"
            ],
            [
             0.5555555555555556,
             "#d8576b"
            ],
            [
             0.6666666666666666,
             "#ed7953"
            ],
            [
             0.7777777777777778,
             "#fb9f3a"
            ],
            [
             0.8888888888888888,
             "#fdca26"
            ],
            [
             1,
             "#f0f921"
            ]
           ]
          },
          "colorway": [
           "#636efa",
           "#EF553B",
           "#00cc96",
           "#ab63fa",
           "#FFA15A",
           "#19d3f3",
           "#FF6692",
           "#B6E880",
           "#FF97FF",
           "#FECB52"
          ],
          "font": {
           "color": "#f2f5fa"
          },
          "geo": {
           "bgcolor": "rgb(17,17,17)",
           "lakecolor": "rgb(17,17,17)",
           "landcolor": "rgb(17,17,17)",
           "showlakes": true,
           "showland": true,
           "subunitcolor": "#506784"
          },
          "hoverlabel": {
           "align": "left"
          },
          "hovermode": "closest",
          "mapbox": {
           "style": "dark"
          },
          "paper_bgcolor": "rgb(17,17,17)",
          "plot_bgcolor": "rgb(17,17,17)",
          "polar": {
           "angularaxis": {
            "gridcolor": "#506784",
            "linecolor": "#506784",
            "ticks": ""
           },
           "bgcolor": "rgb(17,17,17)",
           "radialaxis": {
            "gridcolor": "#506784",
            "linecolor": "#506784",
            "ticks": ""
           }
          },
          "scene": {
           "xaxis": {
            "backgroundcolor": "rgb(17,17,17)",
            "gridcolor": "#506784",
            "gridwidth": 2,
            "linecolor": "#506784",
            "showbackground": true,
            "ticks": "",
            "zerolinecolor": "#C8D4E3"
           },
           "yaxis": {
            "backgroundcolor": "rgb(17,17,17)",
            "gridcolor": "#506784",
            "gridwidth": 2,
            "linecolor": "#506784",
            "showbackground": true,
            "ticks": "",
            "zerolinecolor": "#C8D4E3"
           },
           "zaxis": {
            "backgroundcolor": "rgb(17,17,17)",
            "gridcolor": "#506784",
            "gridwidth": 2,
            "linecolor": "#506784",
            "showbackground": true,
            "ticks": "",
            "zerolinecolor": "#C8D4E3"
           }
          },
          "shapedefaults": {
           "line": {
            "color": "#f2f5fa"
           }
          },
          "sliderdefaults": {
           "bgcolor": "#C8D4E3",
           "bordercolor": "rgb(17,17,17)",
           "borderwidth": 1,
           "tickwidth": 0
          },
          "ternary": {
           "aaxis": {
            "gridcolor": "#506784",
            "linecolor": "#506784",
            "ticks": ""
           },
           "baxis": {
            "gridcolor": "#506784",
            "linecolor": "#506784",
            "ticks": ""
           },
           "bgcolor": "rgb(17,17,17)",
           "caxis": {
            "gridcolor": "#506784",
            "linecolor": "#506784",
            "ticks": ""
           }
          },
          "title": {
           "x": 0.05
          },
          "updatemenudefaults": {
           "bgcolor": "#506784",
           "borderwidth": 0
          },
          "xaxis": {
           "automargin": true,
           "gridcolor": "#283442",
           "linecolor": "#506784",
           "ticks": "",
           "title": {
            "standoff": 15
           },
           "zerolinecolor": "#283442",
           "zerolinewidth": 2
          },
          "yaxis": {
           "automargin": true,
           "gridcolor": "#283442",
           "linecolor": "#506784",
           "ticks": "",
           "title": {
            "standoff": 15
           },
           "zerolinecolor": "#283442",
           "zerolinewidth": 2
          }
         }
        },
        "title": {
         "text": "Expenses Map by Category"
        },
        "width": 750
       }
      },
      "text/html": [
       "<div>                            <div id=\"294f3090-ff88-44ea-8df3-3fbfa71a9108\" class=\"plotly-graph-div\" style=\"height:500px; width:750px;\"></div>            <script type=\"text/javascript\">                require([\"plotly\"], function(Plotly) {                    window.PLOTLYENV=window.PLOTLYENV || {};                                    if (document.getElementById(\"294f3090-ff88-44ea-8df3-3fbfa71a9108\")) {                    Plotly.newPlot(                        \"294f3090-ff88-44ea-8df3-3fbfa71a9108\",                        [{\"hoverlabel\":{\"font\":{\"size\":15}},\"hovertemplate\":\"$%{y} On %{x} \\u003cextra\\u003e\\u003c\\u002fextra\\u003e: Subcategory: %{hovertext}\",\"hovertext\":[\"Electronics\",\"Electronics\",\"Electronics\",\"Electronics\",\"Electronics\",\"Electronics\",\"Electronics\",\"Home Items\",\"Cleanliness\",\"Home Items\",\"Electronics\",\"Beauty\",\"Electronics\",\"Electronics\",\"Electronics\",\"Cleanliness\",\"Cleanliness\",\"Electronics\",\"Beauty\",\"Coleccionables\",\"Electronics\",\"Electronics\",\"Electronics\",\"Cleanliness\",\"Beauty\",\"Electronics\",\"Beauty\",\"Electronics\",\"Beauty\",\"Electronics\",\"Cleanliness\",\"Electronics\",\"Electronics\",\"Electronics\",\"Electronics\",\"Electronics\",\"Coleccionables\",\"Home Items\",\"Electronics\",\"Home Items\",\"Coleccionables\",\"Coleccionables\",\"Electronics\",\"Electronics\",\"Electronics\",\"Electronics\",\"Electronics\",\"Electronics\",\"Electronics\",\"Electronics\",\"Electronics\",\"Home Items\",\"Electronics\",\"Home Items\",\"Electronics\"],\"marker\":{\"color\":[\"#ef5350\",\"#ef5350\",\"#ef5350\",\"#ef5350\",\"#ef5350\",\"#ef5350\",\"#ef5350\",\"#ef5350\",\"#ef5350\",\"#ef5350\",\"#ef5350\",\"#ef5350\",\"#ef5350\",\"#ef5350\",\"#ef5350\",\"#ef5350\",\"#ef5350\",\"#ef5350\",\"#ef5350\",\"#ef5350\",\"#ef5350\",\"#ef5350\",\"#ef5350\",\"#ef5350\",\"#ef5350\",\"#ef5350\",\"#ef5350\",\"#ef5350\",\"#ef5350\",\"#ef5350\",\"#ef5350\",\"#ef5350\",\"#ef5350\",\"#ef5350\",\"#ef5350\",\"#ef5350\",\"#ef5350\",\"#ef5350\",\"#ef5350\",\"#ef5350\",\"#ef5350\",\"#ef5350\",\"#ef5350\",\"#ef5350\",\"#ef5350\",\"#ef5350\",\"#ef5350\",\"#ef5350\",\"#ef5350\",\"#ef5350\",\"#ef5350\",\"#ef5350\",\"#ef5350\",\"#ef5350\",\"#ef5350\"],\"size\":[10.0,7.666666666666667,26.666666666666668,66.0,6.666666666666667,6.666666666666667,10.666666666666666,14.333333333333334,3.3333333333333335,5.0,16.666666666666668,0.6666666666666666,10.0,10.0,10.0,7.333333333333333,4.666666666666667,11.0,6.666666666666667,7.666666666666667,10.0,10.0,11.0,3.3333333333333335,2.6666666666666665,6.666666666666667,6.666666666666667,10.0,0.6666666666666666,10.0,4.0,1.3333333333333333,1.3333333333333333,24.0,10.0,0.6666666666666666,0.6666666666666666,8.333333333333334,0.6666666666666666,7.333333333333333,4.333333333333333,8.666666666666666,10.0,10.0,10.0,10.0,11.666666666666666,0.3333333333333333,10.0,10.0,16.666666666666668,2.3333333333333335,3.6666666666666665,4.666666666666667,16.666666666666668]},\"mode\":\"markers\",\"showlegend\":false,\"x\":[\"2024-11-14T09:08:46\",\"2024-11-13T19:26:13\",\"2024-11-12T08:12:22\",\"2024-11-11T21:09:15\",\"2024-11-09T08:16:28\",\"2024-10-27T12:43:44\",\"2024-10-21T13:26:17\",\"2024-10-20T22:24:46\",\"2024-10-11T21:20:49\",\"2024-10-11T21:14:08\",\"2024-10-03T20:35:29\",\"2024-09-30T07:44:07\",\"2024-09-12T22:47:25\",\"2024-09-12T22:47:08\",\"2024-09-12T22:46:48\",\"2024-09-08T14:20:34\",\"2024-08-17T13:33:56\",\"2024-08-14T06:50:31\",\"2024-08-08T20:04:30\",\"2024-08-04T14:27:06\",\"2024-08-02T12:56:23\",\"2024-08-02T12:56:07\",\"2024-07-17T20:09:50\",\"2024-07-13T13:18:11\",\"2024-07-10T10:39:05\",\"2024-06-23T10:38:58\",\"2024-06-23T09:05:21\",\"2024-06-17T00:21:42\",\"2024-06-16T13:42:27\",\"2024-05-29T08:56:02\",\"2024-05-13T18:07:19\",\"2024-05-05T11:12:18\",\"2024-05-02T20:37:59\",\"2024-05-01T11:13:22\",\"2024-04-29T17:45:45\",\"2024-04-27T20:18:08\",\"2024-04-27T20:17:42\",\"2024-04-26T19:39:08\",\"2024-04-26T15:33:14\",\"2024-04-26T13:33:28\",\"2024-04-20T16:00:36\",\"2024-04-10T18:12:43\",\"2024-04-03T21:26:53\",\"2024-04-03T21:25:44\",\"2024-03-17T11:41:38\",\"2024-03-05T22:53:50\",\"2024-03-01T19:39:12\",\"2024-02-20T09:56:50\",\"2024-02-13T19:16:18\",\"2024-01-31T19:04:05\",\"2024-01-31T19:03:35\",\"2024-01-27T23:09:33\",\"2024-01-17T09:50:03\",\"2024-01-15T08:55:17\",\"2024-01-06T23:41:20\"],\"x0\":[\"Electronics\",\"Electronics\",\"Electronics\",\"Electronics\",\"Electronics\",\"Electronics\",\"Electronics\",\"Home Items\",\"Cleanliness\",\"Home Items\",\"Electronics\",\"Beauty\",\"Electronics\",\"Electronics\",\"Electronics\",\"Cleanliness\",\"Cleanliness\",\"Electronics\",\"Beauty\",\"Coleccionables\",\"Electronics\",\"Electronics\",\"Electronics\",\"Cleanliness\",\"Beauty\",\"Electronics\",\"Beauty\",\"Electronics\",\"Beauty\",\"Electronics\",\"Cleanliness\",\"Electronics\",\"Electronics\",\"Electronics\",\"Electronics\",\"Electronics\",\"Coleccionables\",\"Home Items\",\"Electronics\",\"Home Items\",\"Coleccionables\",\"Coleccionables\",\"Electronics\",\"Electronics\",\"Electronics\",\"Electronics\",\"Electronics\",\"Electronics\",\"Electronics\",\"Electronics\",\"Electronics\",\"Home Items\",\"Electronics\",\"Home Items\",\"Electronics\"],\"y\":[30.0,23.0,80.0,330.0,20.0,20.0,32.0,43.0,10.0,15.0,50.0,2.0,30.0,30.0,30.0,22.0,14.0,33.0,20.0,23.0,30.0,30.0,33.0,10.0,8.0,20.0,20.0,30.0,2.0,30.0,12.0,4.0,4.0,120.0,30.0,2.0,2.0,25.0,2.0,22.0,13.0,26.0,30.0,30.0,30.0,30.0,35.0,1.0,30.0,30.0,50.0,7.0,11.0,14.0,50.0],\"type\":\"scatter\"}],                        {\"height\":500,\"template\":{\"data\":{\"barpolar\":[{\"marker\":{\"line\":{\"color\":\"rgb(17,17,17)\",\"width\":0.5},\"pattern\":{\"fillmode\":\"overlay\",\"size\":10,\"solidity\":0.2}},\"type\":\"barpolar\"}],\"bar\":[{\"error_x\":{\"color\":\"#f2f5fa\"},\"error_y\":{\"color\":\"#f2f5fa\"},\"marker\":{\"line\":{\"color\":\"rgb(17,17,17)\",\"width\":0.5},\"pattern\":{\"fillmode\":\"overlay\",\"size\":10,\"solidity\":0.2}},\"type\":\"bar\"}],\"carpet\":[{\"aaxis\":{\"endlinecolor\":\"#A2B1C6\",\"gridcolor\":\"#506784\",\"linecolor\":\"#506784\",\"minorgridcolor\":\"#506784\",\"startlinecolor\":\"#A2B1C6\"},\"baxis\":{\"endlinecolor\":\"#A2B1C6\",\"gridcolor\":\"#506784\",\"linecolor\":\"#506784\",\"minorgridcolor\":\"#506784\",\"startlinecolor\":\"#A2B1C6\"},\"type\":\"carpet\"}],\"choropleth\":[{\"colorbar\":{\"outlinewidth\":0,\"ticks\":\"\"},\"type\":\"choropleth\"}],\"contourcarpet\":[{\"colorbar\":{\"outlinewidth\":0,\"ticks\":\"\"},\"type\":\"contourcarpet\"}],\"contour\":[{\"colorbar\":{\"outlinewidth\":0,\"ticks\":\"\"},\"colorscale\":[[0.0,\"#0d0887\"],[0.1111111111111111,\"#46039f\"],[0.2222222222222222,\"#7201a8\"],[0.3333333333333333,\"#9c179e\"],[0.4444444444444444,\"#bd3786\"],[0.5555555555555556,\"#d8576b\"],[0.6666666666666666,\"#ed7953\"],[0.7777777777777778,\"#fb9f3a\"],[0.8888888888888888,\"#fdca26\"],[1.0,\"#f0f921\"]],\"type\":\"contour\"}],\"heatmapgl\":[{\"colorbar\":{\"outlinewidth\":0,\"ticks\":\"\"},\"colorscale\":[[0.0,\"#0d0887\"],[0.1111111111111111,\"#46039f\"],[0.2222222222222222,\"#7201a8\"],[0.3333333333333333,\"#9c179e\"],[0.4444444444444444,\"#bd3786\"],[0.5555555555555556,\"#d8576b\"],[0.6666666666666666,\"#ed7953\"],[0.7777777777777778,\"#fb9f3a\"],[0.8888888888888888,\"#fdca26\"],[1.0,\"#f0f921\"]],\"type\":\"heatmapgl\"}],\"heatmap\":[{\"colorbar\":{\"outlinewidth\":0,\"ticks\":\"\"},\"colorscale\":[[0.0,\"#0d0887\"],[0.1111111111111111,\"#46039f\"],[0.2222222222222222,\"#7201a8\"],[0.3333333333333333,\"#9c179e\"],[0.4444444444444444,\"#bd3786\"],[0.5555555555555556,\"#d8576b\"],[0.6666666666666666,\"#ed7953\"],[0.7777777777777778,\"#fb9f3a\"],[0.8888888888888888,\"#fdca26\"],[1.0,\"#f0f921\"]],\"type\":\"heatmap\"}],\"histogram2dcontour\":[{\"colorbar\":{\"outlinewidth\":0,\"ticks\":\"\"},\"colorscale\":[[0.0,\"#0d0887\"],[0.1111111111111111,\"#46039f\"],[0.2222222222222222,\"#7201a8\"],[0.3333333333333333,\"#9c179e\"],[0.4444444444444444,\"#bd3786\"],[0.5555555555555556,\"#d8576b\"],[0.6666666666666666,\"#ed7953\"],[0.7777777777777778,\"#fb9f3a\"],[0.8888888888888888,\"#fdca26\"],[1.0,\"#f0f921\"]],\"type\":\"histogram2dcontour\"}],\"histogram2d\":[{\"colorbar\":{\"outlinewidth\":0,\"ticks\":\"\"},\"colorscale\":[[0.0,\"#0d0887\"],[0.1111111111111111,\"#46039f\"],[0.2222222222222222,\"#7201a8\"],[0.3333333333333333,\"#9c179e\"],[0.4444444444444444,\"#bd3786\"],[0.5555555555555556,\"#d8576b\"],[0.6666666666666666,\"#ed7953\"],[0.7777777777777778,\"#fb9f3a\"],[0.8888888888888888,\"#fdca26\"],[1.0,\"#f0f921\"]],\"type\":\"histogram2d\"}],\"histogram\":[{\"marker\":{\"pattern\":{\"fillmode\":\"overlay\",\"size\":10,\"solidity\":0.2}},\"type\":\"histogram\"}],\"mesh3d\":[{\"colorbar\":{\"outlinewidth\":0,\"ticks\":\"\"},\"type\":\"mesh3d\"}],\"parcoords\":[{\"line\":{\"colorbar\":{\"outlinewidth\":0,\"ticks\":\"\"}},\"type\":\"parcoords\"}],\"pie\":[{\"automargin\":true,\"type\":\"pie\"}],\"scatter3d\":[{\"line\":{\"colorbar\":{\"outlinewidth\":0,\"ticks\":\"\"}},\"marker\":{\"colorbar\":{\"outlinewidth\":0,\"ticks\":\"\"}},\"type\":\"scatter3d\"}],\"scattercarpet\":[{\"marker\":{\"colorbar\":{\"outlinewidth\":0,\"ticks\":\"\"}},\"type\":\"scattercarpet\"}],\"scattergeo\":[{\"marker\":{\"colorbar\":{\"outlinewidth\":0,\"ticks\":\"\"}},\"type\":\"scattergeo\"}],\"scattergl\":[{\"marker\":{\"line\":{\"color\":\"#283442\"}},\"type\":\"scattergl\"}],\"scattermapbox\":[{\"marker\":{\"colorbar\":{\"outlinewidth\":0,\"ticks\":\"\"}},\"type\":\"scattermapbox\"}],\"scatterpolargl\":[{\"marker\":{\"colorbar\":{\"outlinewidth\":0,\"ticks\":\"\"}},\"type\":\"scatterpolargl\"}],\"scatterpolar\":[{\"marker\":{\"colorbar\":{\"outlinewidth\":0,\"ticks\":\"\"}},\"type\":\"scatterpolar\"}],\"scatter\":[{\"marker\":{\"line\":{\"color\":\"#283442\"}},\"type\":\"scatter\"}],\"scatterternary\":[{\"marker\":{\"colorbar\":{\"outlinewidth\":0,\"ticks\":\"\"}},\"type\":\"scatterternary\"}],\"surface\":[{\"colorbar\":{\"outlinewidth\":0,\"ticks\":\"\"},\"colorscale\":[[0.0,\"#0d0887\"],[0.1111111111111111,\"#46039f\"],[0.2222222222222222,\"#7201a8\"],[0.3333333333333333,\"#9c179e\"],[0.4444444444444444,\"#bd3786\"],[0.5555555555555556,\"#d8576b\"],[0.6666666666666666,\"#ed7953\"],[0.7777777777777778,\"#fb9f3a\"],[0.8888888888888888,\"#fdca26\"],[1.0,\"#f0f921\"]],\"type\":\"surface\"}],\"table\":[{\"cells\":{\"fill\":{\"color\":\"#506784\"},\"line\":{\"color\":\"rgb(17,17,17)\"}},\"header\":{\"fill\":{\"color\":\"#2a3f5f\"},\"line\":{\"color\":\"rgb(17,17,17)\"}},\"type\":\"table\"}]},\"layout\":{\"annotationdefaults\":{\"arrowcolor\":\"#f2f5fa\",\"arrowhead\":0,\"arrowwidth\":1},\"autotypenumbers\":\"strict\",\"coloraxis\":{\"colorbar\":{\"outlinewidth\":0,\"ticks\":\"\"}},\"colorscale\":{\"diverging\":[[0,\"#8e0152\"],[0.1,\"#c51b7d\"],[0.2,\"#de77ae\"],[0.3,\"#f1b6da\"],[0.4,\"#fde0ef\"],[0.5,\"#f7f7f7\"],[0.6,\"#e6f5d0\"],[0.7,\"#b8e186\"],[0.8,\"#7fbc41\"],[0.9,\"#4d9221\"],[1,\"#276419\"]],\"sequential\":[[0.0,\"#0d0887\"],[0.1111111111111111,\"#46039f\"],[0.2222222222222222,\"#7201a8\"],[0.3333333333333333,\"#9c179e\"],[0.4444444444444444,\"#bd3786\"],[0.5555555555555556,\"#d8576b\"],[0.6666666666666666,\"#ed7953\"],[0.7777777777777778,\"#fb9f3a\"],[0.8888888888888888,\"#fdca26\"],[1.0,\"#f0f921\"]],\"sequentialminus\":[[0.0,\"#0d0887\"],[0.1111111111111111,\"#46039f\"],[0.2222222222222222,\"#7201a8\"],[0.3333333333333333,\"#9c179e\"],[0.4444444444444444,\"#bd3786\"],[0.5555555555555556,\"#d8576b\"],[0.6666666666666666,\"#ed7953\"],[0.7777777777777778,\"#fb9f3a\"],[0.8888888888888888,\"#fdca26\"],[1.0,\"#f0f921\"]]},\"colorway\":[\"#636efa\",\"#EF553B\",\"#00cc96\",\"#ab63fa\",\"#FFA15A\",\"#19d3f3\",\"#FF6692\",\"#B6E880\",\"#FF97FF\",\"#FECB52\"],\"font\":{\"color\":\"#f2f5fa\"},\"geo\":{\"bgcolor\":\"rgb(17,17,17)\",\"lakecolor\":\"rgb(17,17,17)\",\"landcolor\":\"rgb(17,17,17)\",\"showlakes\":true,\"showland\":true,\"subunitcolor\":\"#506784\"},\"hoverlabel\":{\"align\":\"left\"},\"hovermode\":\"closest\",\"mapbox\":{\"style\":\"dark\"},\"paper_bgcolor\":\"rgb(17,17,17)\",\"plot_bgcolor\":\"rgb(17,17,17)\",\"polar\":{\"angularaxis\":{\"gridcolor\":\"#506784\",\"linecolor\":\"#506784\",\"ticks\":\"\"},\"bgcolor\":\"rgb(17,17,17)\",\"radialaxis\":{\"gridcolor\":\"#506784\",\"linecolor\":\"#506784\",\"ticks\":\"\"}},\"scene\":{\"xaxis\":{\"backgroundcolor\":\"rgb(17,17,17)\",\"gridcolor\":\"#506784\",\"gridwidth\":2,\"linecolor\":\"#506784\",\"showbackground\":true,\"ticks\":\"\",\"zerolinecolor\":\"#C8D4E3\"},\"yaxis\":{\"backgroundcolor\":\"rgb(17,17,17)\",\"gridcolor\":\"#506784\",\"gridwidth\":2,\"linecolor\":\"#506784\",\"showbackground\":true,\"ticks\":\"\",\"zerolinecolor\":\"#C8D4E3\"},\"zaxis\":{\"backgroundcolor\":\"rgb(17,17,17)\",\"gridcolor\":\"#506784\",\"gridwidth\":2,\"linecolor\":\"#506784\",\"showbackground\":true,\"ticks\":\"\",\"zerolinecolor\":\"#C8D4E3\"}},\"shapedefaults\":{\"line\":{\"color\":\"#f2f5fa\"}},\"sliderdefaults\":{\"bgcolor\":\"#C8D4E3\",\"bordercolor\":\"rgb(17,17,17)\",\"borderwidth\":1,\"tickwidth\":0},\"ternary\":{\"aaxis\":{\"gridcolor\":\"#506784\",\"linecolor\":\"#506784\",\"ticks\":\"\"},\"baxis\":{\"gridcolor\":\"#506784\",\"linecolor\":\"#506784\",\"ticks\":\"\"},\"bgcolor\":\"rgb(17,17,17)\",\"caxis\":{\"gridcolor\":\"#506784\",\"linecolor\":\"#506784\",\"ticks\":\"\"}},\"title\":{\"x\":0.05},\"updatemenudefaults\":{\"bgcolor\":\"#506784\",\"borderwidth\":0},\"xaxis\":{\"automargin\":true,\"gridcolor\":\"#283442\",\"linecolor\":\"#506784\",\"ticks\":\"\",\"title\":{\"standoff\":15},\"zerolinecolor\":\"#283442\",\"zerolinewidth\":2},\"yaxis\":{\"automargin\":true,\"gridcolor\":\"#283442\",\"linecolor\":\"#506784\",\"ticks\":\"\",\"title\":{\"standoff\":15},\"zerolinecolor\":\"#283442\",\"zerolinewidth\":2}}},\"title\":{\"text\":\"Expenses Map by Category\"},\"width\":750},                        {\"responsive\": true}                    ).then(function(){\n",
       "                            \n",
       "var gd = document.getElementById('294f3090-ff88-44ea-8df3-3fbfa71a9108');\n",
       "var x = new MutationObserver(function (mutations, observer) {{\n",
       "        var display = window.getComputedStyle(gd).display;\n",
       "        if (!display || display === 'none') {{\n",
       "            console.log([gd, 'removed!']);\n",
       "            Plotly.purge(gd);\n",
       "            observer.disconnect();\n",
       "        }}\n",
       "}});\n",
       "\n",
       "// Listen for the removal of the full notebook cells\n",
       "var notebookContainer = gd.closest('#notebook-container');\n",
       "if (notebookContainer) {{\n",
       "    x.observe(notebookContainer, {childList: true});\n",
       "}}\n",
       "\n",
       "// Listen for the clearing of the current output cell\n",
       "var outputEl = gd.closest('.output');\n",
       "if (outputEl) {{\n",
       "    x.observe(outputEl, {childList: true});\n",
       "}}\n",
       "\n",
       "                        })                };                });            </script>        </div>"
      ]
     },
     "metadata": {},
     "output_type": "display_data"
    }
   ],
   "source": [
    "def plot_category_map(df: pd.DataFrame, category : str):\n",
    "    \n",
    "    df = df[df[\"category name\"] == category]\n",
    "    df[\"subcategory name\"] = df[\"subcategory name\"].apply(lambda row: \"None\" if row == \"\" else row)\n",
    "    \n",
    "    fig = go.Figure(layout = go.Layout(height = 500, width = 750, title = \"Expenses Map by Category\", template = \"plotly_dark\"))\n",
    "    fig.add_trace(go.Scatter(x = df[\"date\"],\n",
    "                             x0= df[\"subcategory name\"],\n",
    "                             y = df[\"amount\"],\n",
    "                             hovertext=df[\"subcategory name\"],\n",
    "                             hoverlabel=dict(font_size = 15),\n",
    "                             hovertemplate=\"$%{y} On %{x} <extra></extra>: Subcategory: %{hovertext}\",\n",
    "                             mode = \"markers\",\n",
    "                             marker_color = df[\"color\"],\n",
    "                             marker_size = df[\"amount\"].apply(lambda row: row / 5 if row >= 100 else row / 3),\n",
    "                             showlegend = False))\n",
    "    \n",
    "    return fig\n",
    "\n",
    "plot_category_map(df, \"Shopping\")"
   ]
  }
 ],
 "metadata": {
  "kernelspec": {
   "display_name": "Python 3",
   "language": "python",
   "name": "python3"
  },
  "language_info": {
   "codemirror_mode": {
    "name": "ipython",
    "version": 3
   },
   "file_extension": ".py",
   "mimetype": "text/x-python",
   "name": "python",
   "nbconvert_exporter": "python",
   "pygments_lexer": "ipython3",
   "version": "3.11.10"
  }
 },
 "nbformat": 4,
 "nbformat_minor": 2
}
