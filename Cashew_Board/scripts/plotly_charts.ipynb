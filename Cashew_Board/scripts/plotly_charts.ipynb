{
 "cells": [
  {
   "cell_type": "code",
   "execution_count": 3,
   "metadata": {},
   "outputs": [
    {
     "data": {
      "text/html": [
       "<div>\n",
       "<style scoped>\n",
       "    .dataframe tbody tr th:only-of-type {\n",
       "        vertical-align: middle;\n",
       "    }\n",
       "\n",
       "    .dataframe tbody tr th {\n",
       "        vertical-align: top;\n",
       "    }\n",
       "\n",
       "    .dataframe thead th {\n",
       "        text-align: right;\n",
       "    }\n",
       "</style>\n",
       "<table border=\"1\" class=\"dataframe\">\n",
       "  <thead>\n",
       "    <tr style=\"text-align: right;\">\n",
       "      <th></th>\n",
       "      <th>account</th>\n",
       "      <th>amount</th>\n",
       "      <th>currency</th>\n",
       "      <th>title</th>\n",
       "      <th>note</th>\n",
       "      <th>date</th>\n",
       "      <th>income</th>\n",
       "      <th>type</th>\n",
       "      <th>category name</th>\n",
       "      <th>subcategory name</th>\n",
       "      <th>color</th>\n",
       "      <th>icon</th>\n",
       "      <th>emoji</th>\n",
       "      <th>budget</th>\n",
       "      <th>objective</th>\n",
       "    </tr>\n",
       "  </thead>\n",
       "  <tbody>\n",
       "    <tr>\n",
       "      <th>0</th>\n",
       "      <td>Main</td>\n",
       "      <td>12.0</td>\n",
       "      <td>USD</td>\n",
       "      <td></td>\n",
       "      <td></td>\n",
       "      <td>2024-11-21</td>\n",
       "      <td>False</td>\n",
       "      <td>null</td>\n",
       "      <td>Taxi</td>\n",
       "      <td></td>\n",
       "      <td>#ffee58</td>\n",
       "      <td>taxi(1).png</td>\n",
       "      <td></td>\n",
       "      <td></td>\n",
       "      <td></td>\n",
       "    </tr>\n",
       "    <tr>\n",
       "      <th>1</th>\n",
       "      <td>Main</td>\n",
       "      <td>8.0</td>\n",
       "      <td>USD</td>\n",
       "      <td></td>\n",
       "      <td></td>\n",
       "      <td>2024-11-21</td>\n",
       "      <td>False</td>\n",
       "      <td>null</td>\n",
       "      <td>Taxi</td>\n",
       "      <td></td>\n",
       "      <td>#ffee58</td>\n",
       "      <td>taxi(1).png</td>\n",
       "      <td></td>\n",
       "      <td></td>\n",
       "      <td></td>\n",
       "    </tr>\n",
       "    <tr>\n",
       "      <th>2</th>\n",
       "      <td>Main</td>\n",
       "      <td>8.0</td>\n",
       "      <td>USD</td>\n",
       "      <td></td>\n",
       "      <td></td>\n",
       "      <td>2024-11-21</td>\n",
       "      <td>False</td>\n",
       "      <td>null</td>\n",
       "      <td>Taxi</td>\n",
       "      <td></td>\n",
       "      <td>#ffee58</td>\n",
       "      <td>taxi(1).png</td>\n",
       "      <td></td>\n",
       "      <td></td>\n",
       "      <td></td>\n",
       "    </tr>\n",
       "    <tr>\n",
       "      <th>3</th>\n",
       "      <td>Main</td>\n",
       "      <td>8.0</td>\n",
       "      <td>USD</td>\n",
       "      <td></td>\n",
       "      <td></td>\n",
       "      <td>2024-11-21</td>\n",
       "      <td>False</td>\n",
       "      <td>null</td>\n",
       "      <td>Taxi</td>\n",
       "      <td></td>\n",
       "      <td>#ffee58</td>\n",
       "      <td>taxi(1).png</td>\n",
       "      <td></td>\n",
       "      <td></td>\n",
       "      <td></td>\n",
       "    </tr>\n",
       "    <tr>\n",
       "      <th>4</th>\n",
       "      <td>Main</td>\n",
       "      <td>20.0</td>\n",
       "      <td>USD</td>\n",
       "      <td></td>\n",
       "      <td>Proton Duo wi</td>\n",
       "      <td>2024-11-20</td>\n",
       "      <td>False</td>\n",
       "      <td>null</td>\n",
       "      <td>Subscription</td>\n",
       "      <td></td>\n",
       "      <td>#ff7043</td>\n",
       "      <td>subscription.png</td>\n",
       "      <td></td>\n",
       "      <td></td>\n",
       "      <td></td>\n",
       "    </tr>\n",
       "    <tr>\n",
       "      <th>...</th>\n",
       "      <td>...</td>\n",
       "      <td>...</td>\n",
       "      <td>...</td>\n",
       "      <td>...</td>\n",
       "      <td>...</td>\n",
       "      <td>...</td>\n",
       "      <td>...</td>\n",
       "      <td>...</td>\n",
       "      <td>...</td>\n",
       "      <td>...</td>\n",
       "      <td>...</td>\n",
       "      <td>...</td>\n",
       "      <td>...</td>\n",
       "      <td>...</td>\n",
       "      <td>...</td>\n",
       "    </tr>\n",
       "    <tr>\n",
       "      <th>1283</th>\n",
       "      <td>Main</td>\n",
       "      <td>1.0</td>\n",
       "      <td>USD</td>\n",
       "      <td></td>\n",
       "      <td></td>\n",
       "      <td>2024-01-03</td>\n",
       "      <td>False</td>\n",
       "      <td>null</td>\n",
       "      <td>Groceries</td>\n",
       "      <td></td>\n",
       "      <td>#4caf50</td>\n",
       "      <td>groceries.png</td>\n",
       "      <td></td>\n",
       "      <td></td>\n",
       "      <td></td>\n",
       "    </tr>\n",
       "    <tr>\n",
       "      <th>1284</th>\n",
       "      <td>Main</td>\n",
       "      <td>10.0</td>\n",
       "      <td>USD</td>\n",
       "      <td></td>\n",
       "      <td></td>\n",
       "      <td>2024-01-02</td>\n",
       "      <td>True</td>\n",
       "      <td>null</td>\n",
       "      <td>Tip</td>\n",
       "      <td></td>\n",
       "      <td>#66bb6a</td>\n",
       "      <td>dollar-coin.png</td>\n",
       "      <td></td>\n",
       "      <td></td>\n",
       "      <td></td>\n",
       "    </tr>\n",
       "    <tr>\n",
       "      <th>1285</th>\n",
       "      <td>Main</td>\n",
       "      <td>16.0</td>\n",
       "      <td>USD</td>\n",
       "      <td></td>\n",
       "      <td></td>\n",
       "      <td>2024-01-02</td>\n",
       "      <td>False</td>\n",
       "      <td>null</td>\n",
       "      <td>Taxi</td>\n",
       "      <td></td>\n",
       "      <td>#ffee58</td>\n",
       "      <td>taxi(1).png</td>\n",
       "      <td></td>\n",
       "      <td></td>\n",
       "      <td></td>\n",
       "    </tr>\n",
       "    <tr>\n",
       "      <th>1286</th>\n",
       "      <td>Main</td>\n",
       "      <td>14.0</td>\n",
       "      <td>USD</td>\n",
       "      <td></td>\n",
       "      <td></td>\n",
       "      <td>2024-01-02</td>\n",
       "      <td>False</td>\n",
       "      <td>null</td>\n",
       "      <td>Taxi</td>\n",
       "      <td></td>\n",
       "      <td>#ffee58</td>\n",
       "      <td>taxi(1).png</td>\n",
       "      <td></td>\n",
       "      <td></td>\n",
       "      <td></td>\n",
       "    </tr>\n",
       "    <tr>\n",
       "      <th>1287</th>\n",
       "      <td>Main</td>\n",
       "      <td>650.0</td>\n",
       "      <td>USD</td>\n",
       "      <td></td>\n",
       "      <td></td>\n",
       "      <td>2024-01-02</td>\n",
       "      <td>False</td>\n",
       "      <td>null</td>\n",
       "      <td>Rent</td>\n",
       "      <td></td>\n",
       "      <td>#ab47bc</td>\n",
       "      <td>home2.png</td>\n",
       "      <td></td>\n",
       "      <td></td>\n",
       "      <td></td>\n",
       "    </tr>\n",
       "  </tbody>\n",
       "</table>\n",
       "<p>1288 rows × 15 columns</p>\n",
       "</div>"
      ],
      "text/plain": [
       "     account  amount currency title           note       date  income  type  \\\n",
       "0       Main    12.0      USD                      2024-11-21   False  null   \n",
       "1       Main     8.0      USD                      2024-11-21   False  null   \n",
       "2       Main     8.0      USD                      2024-11-21   False  null   \n",
       "3       Main     8.0      USD                      2024-11-21   False  null   \n",
       "4       Main    20.0      USD        Proton Duo wi 2024-11-20   False  null   \n",
       "...      ...     ...      ...   ...            ...        ...     ...   ...   \n",
       "1283    Main     1.0      USD                      2024-01-03   False  null   \n",
       "1284    Main    10.0      USD                      2024-01-02    True  null   \n",
       "1285    Main    16.0      USD                      2024-01-02   False  null   \n",
       "1286    Main    14.0      USD                      2024-01-02   False  null   \n",
       "1287    Main   650.0      USD                      2024-01-02   False  null   \n",
       "\n",
       "     category name subcategory name    color              icon emoji budget  \\\n",
       "0             Taxi                   #ffee58       taxi(1).png                \n",
       "1             Taxi                   #ffee58       taxi(1).png                \n",
       "2             Taxi                   #ffee58       taxi(1).png                \n",
       "3             Taxi                   #ffee58       taxi(1).png                \n",
       "4     Subscription                   #ff7043  subscription.png                \n",
       "...            ...              ...      ...               ...   ...    ...   \n",
       "1283     Groceries                   #4caf50     groceries.png                \n",
       "1284           Tip                   #66bb6a   dollar-coin.png                \n",
       "1285          Taxi                   #ffee58       taxi(1).png                \n",
       "1286          Taxi                   #ffee58       taxi(1).png                \n",
       "1287          Rent                   #ab47bc         home2.png                \n",
       "\n",
       "     objective  \n",
       "0               \n",
       "1               \n",
       "2               \n",
       "3               \n",
       "4               \n",
       "...        ...  \n",
       "1283            \n",
       "1284            \n",
       "1285            \n",
       "1286            \n",
       "1287            \n",
       "\n",
       "[1288 rows x 15 columns]"
      ]
     },
     "execution_count": 3,
     "metadata": {},
     "output_type": "execute_result"
    }
   ],
   "source": [
    "import pandas as pd \n",
    "import plotly.express as px\n",
    "import plotly.graph_objects as go\n",
    "import os\n",
    "\n",
    "data_folder = r\"/workspaces/Projects/Cashew_Board/data\"\n",
    "file_on_folder = os.listdir(data_folder)[0]\n",
    "\n",
    "def android_to_hex(color_code):\n",
    "    hex_code = \"#{:06x}\".format(color_code & 0xffffff)\n",
    "    return hex_code\n",
    "\n",
    "df = pd.read_csv(fr\"{data_folder}/{file_on_folder}\", engine = \"pyarrow\", keep_default_na = False)\n",
    "df[\"color\"] = df[\"color\"].apply(android_to_hex)\n",
    "df['amount'] = df['amount'].abs() # Transform negative values to positive\n",
    "df[\"date\"] = pd.to_datetime(df[\"date\"].dt.strftime(\"%m-%d-%Y\"))\n",
    "\n",
    "\n",
    "df"
   ]
  },
  {
   "cell_type": "code",
   "execution_count": 67,
   "metadata": {},
   "outputs": [
    {
     "data": {
      "application/vnd.plotly.v1+json": {
       "config": {
        "plotlyServerURL": "https://plot.ly"
       },
       "data": [
        {
         "hoverlabel": {
          "font": {
           "size": 15
          }
         },
         "hovertemplate": "$%{y} On %{x} <extra></extra>: Subcategory: %{hovertext}",
         "hovertext": [
          "Electronics",
          "Home Items",
          "Electronics",
          "Home Items",
          "Electronics",
          "Electronics",
          "Electronics",
          "Electronics",
          "Electronics",
          "Electronics",
          "Electronics",
          "Coleccionables",
          "Coleccionables",
          "Electronics",
          "Home Items",
          "Coleccionables",
          "Electronics",
          "Electronics",
          "Electronics",
          "Electronics",
          "Electronics",
          "Cleanliness",
          "Electronics",
          "Beauty",
          "Electronics",
          "Beauty",
          "Electronics",
          "Beauty",
          "Cleanliness",
          "Electronics",
          "Electronics",
          "Coleccionables",
          "Beauty",
          "Electronics",
          "Cleanliness",
          "Cleanliness",
          "Electronics",
          "Beauty",
          "Electronics",
          "Cleanliness",
          "Home Items",
          "Home Items",
          "Electronics",
          "Electronics",
          "Electronics",
          "Electronics",
          "Electronics",
          "Electronics",
          "Electronics"
         ],
         "marker": {
          "color": [
           "#ef5350",
           "#ef5350",
           "#ef5350",
           "#ef5350",
           "#ef5350",
           "#ef5350",
           "#ef5350",
           "#ef5350",
           "#ef5350",
           "#ef5350",
           "#ef5350",
           "#ef5350",
           "#ef5350",
           "#ef5350",
           "#ef5350",
           "#ef5350",
           "#ef5350",
           "#ef5350",
           "#ef5350",
           "#ef5350",
           "#ef5350",
           "#ef5350",
           "#ef5350",
           "#ef5350",
           "#ef5350",
           "#ef5350",
           "#ef5350",
           "#ef5350",
           "#ef5350",
           "#ef5350",
           "#ef5350",
           "#ef5350",
           "#ef5350",
           "#ef5350",
           "#ef5350",
           "#ef5350",
           "#ef5350",
           "#ef5350",
           "#ef5350",
           "#ef5350",
           "#ef5350",
           "#ef5350",
           "#ef5350",
           "#ef5350",
           "#ef5350",
           "#ef5350",
           "#ef5350",
           "#ef5350",
           "#ef5350"
          ],
          "size": [
           10,
           2.8,
           2.2,
           1.4,
           16,
           6,
           0.2,
           7,
           6,
           6,
           12,
           5.2,
           2.6,
           0.4,
           9.4,
           0.4,
           0.4,
           6,
           24,
           0.8,
           0.8,
           2.4,
           6,
           0.4,
           6,
           4,
           4,
           1.6,
           2,
           6.6,
           12,
           4.6,
           4,
           6.6,
           2.8,
           4.4,
           18,
           0.4,
           10,
           2,
           3,
           8.6,
           6.4,
           4,
           4,
           66,
           16,
           4.6,
           6
          ]
         },
         "mode": "markers",
         "showlegend": false,
         "type": "scatter",
         "x": [
          "2024-01-06T00:00:00",
          "2024-01-15T00:00:00",
          "2024-01-17T00:00:00",
          "2024-01-27T00:00:00",
          "2024-01-31T00:00:00",
          "2024-02-13T00:00:00",
          "2024-02-20T00:00:00",
          "2024-03-01T00:00:00",
          "2024-03-05T00:00:00",
          "2024-03-17T00:00:00",
          "2024-04-03T00:00:00",
          "2024-04-10T00:00:00",
          "2024-04-20T00:00:00",
          "2024-04-26T00:00:00",
          "2024-04-26T00:00:00",
          "2024-04-27T00:00:00",
          "2024-04-27T00:00:00",
          "2024-04-29T00:00:00",
          "2024-05-01T00:00:00",
          "2024-05-02T00:00:00",
          "2024-05-05T00:00:00",
          "2024-05-13T00:00:00",
          "2024-05-29T00:00:00",
          "2024-06-16T00:00:00",
          "2024-06-17T00:00:00",
          "2024-06-23T00:00:00",
          "2024-06-23T00:00:00",
          "2024-07-10T00:00:00",
          "2024-07-13T00:00:00",
          "2024-07-17T00:00:00",
          "2024-08-02T00:00:00",
          "2024-08-04T00:00:00",
          "2024-08-08T00:00:00",
          "2024-08-14T00:00:00",
          "2024-08-17T00:00:00",
          "2024-09-08T00:00:00",
          "2024-09-12T00:00:00",
          "2024-09-30T00:00:00",
          "2024-10-03T00:00:00",
          "2024-10-11T00:00:00",
          "2024-10-11T00:00:00",
          "2024-10-20T00:00:00",
          "2024-10-21T00:00:00",
          "2024-10-27T00:00:00",
          "2024-11-09T00:00:00",
          "2024-11-11T00:00:00",
          "2024-11-12T00:00:00",
          "2024-11-13T00:00:00",
          "2024-11-14T00:00:00"
         ],
         "x0": [
          "Electronics",
          "Home Items",
          "Electronics",
          "Home Items",
          "Electronics",
          "Electronics",
          "Electronics",
          "Electronics",
          "Electronics",
          "Electronics",
          "Electronics",
          "Coleccionables",
          "Coleccionables",
          "Electronics",
          "Home Items",
          "Coleccionables",
          "Electronics",
          "Electronics",
          "Electronics",
          "Electronics",
          "Electronics",
          "Cleanliness",
          "Electronics",
          "Beauty",
          "Electronics",
          "Beauty",
          "Electronics",
          "Beauty",
          "Cleanliness",
          "Electronics",
          "Electronics",
          "Coleccionables",
          "Beauty",
          "Electronics",
          "Cleanliness",
          "Cleanliness",
          "Electronics",
          "Beauty",
          "Electronics",
          "Cleanliness",
          "Home Items",
          "Home Items",
          "Electronics",
          "Electronics",
          "Electronics",
          "Electronics",
          "Electronics",
          "Electronics",
          "Electronics"
         ],
         "y": [
          50,
          14,
          11,
          7,
          80,
          30,
          1,
          35,
          30,
          30,
          60,
          26,
          13,
          2,
          47,
          2,
          2,
          30,
          120,
          4,
          4,
          12,
          30,
          2,
          30,
          20,
          20,
          8,
          10,
          33,
          60,
          23,
          20,
          33,
          14,
          22,
          90,
          2,
          50,
          10,
          15,
          43,
          32,
          20,
          20,
          330,
          80,
          23,
          30
         ]
        }
       ],
       "layout": {
        "height": 500,
        "template": {
         "data": {
          "bar": [
           {
            "error_x": {
             "color": "#f2f5fa"
            },
            "error_y": {
             "color": "#f2f5fa"
            },
            "marker": {
             "line": {
              "color": "rgb(17,17,17)",
              "width": 0.5
             },
             "pattern": {
              "fillmode": "overlay",
              "size": 10,
              "solidity": 0.2
             }
            },
            "type": "bar"
           }
          ],
          "barpolar": [
           {
            "marker": {
             "line": {
              "color": "rgb(17,17,17)",
              "width": 0.5
             },
             "pattern": {
              "fillmode": "overlay",
              "size": 10,
              "solidity": 0.2
             }
            },
            "type": "barpolar"
           }
          ],
          "carpet": [
           {
            "aaxis": {
             "endlinecolor": "#A2B1C6",
             "gridcolor": "#506784",
             "linecolor": "#506784",
             "minorgridcolor": "#506784",
             "startlinecolor": "#A2B1C6"
            },
            "baxis": {
             "endlinecolor": "#A2B1C6",
             "gridcolor": "#506784",
             "linecolor": "#506784",
             "minorgridcolor": "#506784",
             "startlinecolor": "#A2B1C6"
            },
            "type": "carpet"
           }
          ],
          "choropleth": [
           {
            "colorbar": {
             "outlinewidth": 0,
             "ticks": ""
            },
            "type": "choropleth"
           }
          ],
          "contour": [
           {
            "colorbar": {
             "outlinewidth": 0,
             "ticks": ""
            },
            "colorscale": [
             [
              0,
              "#0d0887"
             ],
             [
              0.1111111111111111,
              "#46039f"
             ],
             [
              0.2222222222222222,
              "#7201a8"
             ],
             [
              0.3333333333333333,
              "#9c179e"
             ],
             [
              0.4444444444444444,
              "#bd3786"
             ],
             [
              0.5555555555555556,
              "#d8576b"
             ],
             [
              0.6666666666666666,
              "#ed7953"
             ],
             [
              0.7777777777777778,
              "#fb9f3a"
             ],
             [
              0.8888888888888888,
              "#fdca26"
             ],
             [
              1,
              "#f0f921"
             ]
            ],
            "type": "contour"
           }
          ],
          "contourcarpet": [
           {
            "colorbar": {
             "outlinewidth": 0,
             "ticks": ""
            },
            "type": "contourcarpet"
           }
          ],
          "heatmap": [
           {
            "colorbar": {
             "outlinewidth": 0,
             "ticks": ""
            },
            "colorscale": [
             [
              0,
              "#0d0887"
             ],
             [
              0.1111111111111111,
              "#46039f"
             ],
             [
              0.2222222222222222,
              "#7201a8"
             ],
             [
              0.3333333333333333,
              "#9c179e"
             ],
             [
              0.4444444444444444,
              "#bd3786"
             ],
             [
              0.5555555555555556,
              "#d8576b"
             ],
             [
              0.6666666666666666,
              "#ed7953"
             ],
             [
              0.7777777777777778,
              "#fb9f3a"
             ],
             [
              0.8888888888888888,
              "#fdca26"
             ],
             [
              1,
              "#f0f921"
             ]
            ],
            "type": "heatmap"
           }
          ],
          "heatmapgl": [
           {
            "colorbar": {
             "outlinewidth": 0,
             "ticks": ""
            },
            "colorscale": [
             [
              0,
              "#0d0887"
             ],
             [
              0.1111111111111111,
              "#46039f"
             ],
             [
              0.2222222222222222,
              "#7201a8"
             ],
             [
              0.3333333333333333,
              "#9c179e"
             ],
             [
              0.4444444444444444,
              "#bd3786"
             ],
             [
              0.5555555555555556,
              "#d8576b"
             ],
             [
              0.6666666666666666,
              "#ed7953"
             ],
             [
              0.7777777777777778,
              "#fb9f3a"
             ],
             [
              0.8888888888888888,
              "#fdca26"
             ],
             [
              1,
              "#f0f921"
             ]
            ],
            "type": "heatmapgl"
           }
          ],
          "histogram": [
           {
            "marker": {
             "pattern": {
              "fillmode": "overlay",
              "size": 10,
              "solidity": 0.2
             }
            },
            "type": "histogram"
           }
          ],
          "histogram2d": [
           {
            "colorbar": {
             "outlinewidth": 0,
             "ticks": ""
            },
            "colorscale": [
             [
              0,
              "#0d0887"
             ],
             [
              0.1111111111111111,
              "#46039f"
             ],
             [
              0.2222222222222222,
              "#7201a8"
             ],
             [
              0.3333333333333333,
              "#9c179e"
             ],
             [
              0.4444444444444444,
              "#bd3786"
             ],
             [
              0.5555555555555556,
              "#d8576b"
             ],
             [
              0.6666666666666666,
              "#ed7953"
             ],
             [
              0.7777777777777778,
              "#fb9f3a"
             ],
             [
              0.8888888888888888,
              "#fdca26"
             ],
             [
              1,
              "#f0f921"
             ]
            ],
            "type": "histogram2d"
           }
          ],
          "histogram2dcontour": [
           {
            "colorbar": {
             "outlinewidth": 0,
             "ticks": ""
            },
            "colorscale": [
             [
              0,
              "#0d0887"
             ],
             [
              0.1111111111111111,
              "#46039f"
             ],
             [
              0.2222222222222222,
              "#7201a8"
             ],
             [
              0.3333333333333333,
              "#9c179e"
             ],
             [
              0.4444444444444444,
              "#bd3786"
             ],
             [
              0.5555555555555556,
              "#d8576b"
             ],
             [
              0.6666666666666666,
              "#ed7953"
             ],
             [
              0.7777777777777778,
              "#fb9f3a"
             ],
             [
              0.8888888888888888,
              "#fdca26"
             ],
             [
              1,
              "#f0f921"
             ]
            ],
            "type": "histogram2dcontour"
           }
          ],
          "mesh3d": [
           {
            "colorbar": {
             "outlinewidth": 0,
             "ticks": ""
            },
            "type": "mesh3d"
           }
          ],
          "parcoords": [
           {
            "line": {
             "colorbar": {
              "outlinewidth": 0,
              "ticks": ""
             }
            },
            "type": "parcoords"
           }
          ],
          "pie": [
           {
            "automargin": true,
            "type": "pie"
           }
          ],
          "scatter": [
           {
            "marker": {
             "line": {
              "color": "#283442"
             }
            },
            "type": "scatter"
           }
          ],
          "scatter3d": [
           {
            "line": {
             "colorbar": {
              "outlinewidth": 0,
              "ticks": ""
             }
            },
            "marker": {
             "colorbar": {
              "outlinewidth": 0,
              "ticks": ""
             }
            },
            "type": "scatter3d"
           }
          ],
          "scattercarpet": [
           {
            "marker": {
             "colorbar": {
              "outlinewidth": 0,
              "ticks": ""
             }
            },
            "type": "scattercarpet"
           }
          ],
          "scattergeo": [
           {
            "marker": {
             "colorbar": {
              "outlinewidth": 0,
              "ticks": ""
             }
            },
            "type": "scattergeo"
           }
          ],
          "scattergl": [
           {
            "marker": {
             "line": {
              "color": "#283442"
             }
            },
            "type": "scattergl"
           }
          ],
          "scattermapbox": [
           {
            "marker": {
             "colorbar": {
              "outlinewidth": 0,
              "ticks": ""
             }
            },
            "type": "scattermapbox"
           }
          ],
          "scatterpolar": [
           {
            "marker": {
             "colorbar": {
              "outlinewidth": 0,
              "ticks": ""
             }
            },
            "type": "scatterpolar"
           }
          ],
          "scatterpolargl": [
           {
            "marker": {
             "colorbar": {
              "outlinewidth": 0,
              "ticks": ""
             }
            },
            "type": "scatterpolargl"
           }
          ],
          "scatterternary": [
           {
            "marker": {
             "colorbar": {
              "outlinewidth": 0,
              "ticks": ""
             }
            },
            "type": "scatterternary"
           }
          ],
          "surface": [
           {
            "colorbar": {
             "outlinewidth": 0,
             "ticks": ""
            },
            "colorscale": [
             [
              0,
              "#0d0887"
             ],
             [
              0.1111111111111111,
              "#46039f"
             ],
             [
              0.2222222222222222,
              "#7201a8"
             ],
             [
              0.3333333333333333,
              "#9c179e"
             ],
             [
              0.4444444444444444,
              "#bd3786"
             ],
             [
              0.5555555555555556,
              "#d8576b"
             ],
             [
              0.6666666666666666,
              "#ed7953"
             ],
             [
              0.7777777777777778,
              "#fb9f3a"
             ],
             [
              0.8888888888888888,
              "#fdca26"
             ],
             [
              1,
              "#f0f921"
             ]
            ],
            "type": "surface"
           }
          ],
          "table": [
           {
            "cells": {
             "fill": {
              "color": "#506784"
             },
             "line": {
              "color": "rgb(17,17,17)"
             }
            },
            "header": {
             "fill": {
              "color": "#2a3f5f"
             },
             "line": {
              "color": "rgb(17,17,17)"
             }
            },
            "type": "table"
           }
          ]
         },
         "layout": {
          "annotationdefaults": {
           "arrowcolor": "#f2f5fa",
           "arrowhead": 0,
           "arrowwidth": 1
          },
          "autotypenumbers": "strict",
          "coloraxis": {
           "colorbar": {
            "outlinewidth": 0,
            "ticks": ""
           }
          },
          "colorscale": {
           "diverging": [
            [
             0,
             "#8e0152"
            ],
            [
             0.1,
             "#c51b7d"
            ],
            [
             0.2,
             "#de77ae"
            ],
            [
             0.3,
             "#f1b6da"
            ],
            [
             0.4,
             "#fde0ef"
            ],
            [
             0.5,
             "#f7f7f7"
            ],
            [
             0.6,
             "#e6f5d0"
            ],
            [
             0.7,
             "#b8e186"
            ],
            [
             0.8,
             "#7fbc41"
            ],
            [
             0.9,
             "#4d9221"
            ],
            [
             1,
             "#276419"
            ]
           ],
           "sequential": [
            [
             0,
             "#0d0887"
            ],
            [
             0.1111111111111111,
             "#46039f"
            ],
            [
             0.2222222222222222,
             "#7201a8"
            ],
            [
             0.3333333333333333,
             "#9c179e"
            ],
            [
             0.4444444444444444,
             "#bd3786"
            ],
            [
             0.5555555555555556,
             "#d8576b"
            ],
            [
             0.6666666666666666,
             "#ed7953"
            ],
            [
             0.7777777777777778,
             "#fb9f3a"
            ],
            [
             0.8888888888888888,
             "#fdca26"
            ],
            [
             1,
             "#f0f921"
            ]
           ],
           "sequentialminus": [
            [
             0,
             "#0d0887"
            ],
            [
             0.1111111111111111,
             "#46039f"
            ],
            [
             0.2222222222222222,
             "#7201a8"
            ],
            [
             0.3333333333333333,
             "#9c179e"
            ],
            [
             0.4444444444444444,
             "#bd3786"
            ],
            [
             0.5555555555555556,
             "#d8576b"
            ],
            [
             0.6666666666666666,
             "#ed7953"
            ],
            [
             0.7777777777777778,
             "#fb9f3a"
            ],
            [
             0.8888888888888888,
             "#fdca26"
            ],
            [
             1,
             "#f0f921"
            ]
           ]
          },
          "colorway": [
           "#636efa",
           "#EF553B",
           "#00cc96",
           "#ab63fa",
           "#FFA15A",
           "#19d3f3",
           "#FF6692",
           "#B6E880",
           "#FF97FF",
           "#FECB52"
          ],
          "font": {
           "color": "#f2f5fa"
          },
          "geo": {
           "bgcolor": "rgb(17,17,17)",
           "lakecolor": "rgb(17,17,17)",
           "landcolor": "rgb(17,17,17)",
           "showlakes": true,
           "showland": true,
           "subunitcolor": "#506784"
          },
          "hoverlabel": {
           "align": "left"
          },
          "hovermode": "closest",
          "mapbox": {
           "style": "dark"
          },
          "paper_bgcolor": "rgb(17,17,17)",
          "plot_bgcolor": "rgb(17,17,17)",
          "polar": {
           "angularaxis": {
            "gridcolor": "#506784",
            "linecolor": "#506784",
            "ticks": ""
           },
           "bgcolor": "rgb(17,17,17)",
           "radialaxis": {
            "gridcolor": "#506784",
            "linecolor": "#506784",
            "ticks": ""
           }
          },
          "scene": {
           "xaxis": {
            "backgroundcolor": "rgb(17,17,17)",
            "gridcolor": "#506784",
            "gridwidth": 2,
            "linecolor": "#506784",
            "showbackground": true,
            "ticks": "",
            "zerolinecolor": "#C8D4E3"
           },
           "yaxis": {
            "backgroundcolor": "rgb(17,17,17)",
            "gridcolor": "#506784",
            "gridwidth": 2,
            "linecolor": "#506784",
            "showbackground": true,
            "ticks": "",
            "zerolinecolor": "#C8D4E3"
           },
           "zaxis": {
            "backgroundcolor": "rgb(17,17,17)",
            "gridcolor": "#506784",
            "gridwidth": 2,
            "linecolor": "#506784",
            "showbackground": true,
            "ticks": "",
            "zerolinecolor": "#C8D4E3"
           }
          },
          "shapedefaults": {
           "line": {
            "color": "#f2f5fa"
           }
          },
          "sliderdefaults": {
           "bgcolor": "#C8D4E3",
           "bordercolor": "rgb(17,17,17)",
           "borderwidth": 1,
           "tickwidth": 0
          },
          "ternary": {
           "aaxis": {
            "gridcolor": "#506784",
            "linecolor": "#506784",
            "ticks": ""
           },
           "baxis": {
            "gridcolor": "#506784",
            "linecolor": "#506784",
            "ticks": ""
           },
           "bgcolor": "rgb(17,17,17)",
           "caxis": {
            "gridcolor": "#506784",
            "linecolor": "#506784",
            "ticks": ""
           }
          },
          "title": {
           "x": 0.05
          },
          "updatemenudefaults": {
           "bgcolor": "#506784",
           "borderwidth": 0
          },
          "xaxis": {
           "automargin": true,
           "gridcolor": "#283442",
           "linecolor": "#506784",
           "ticks": "",
           "title": {
            "standoff": 15
           },
           "zerolinecolor": "#283442",
           "zerolinewidth": 2
          },
          "yaxis": {
           "automargin": true,
           "gridcolor": "#283442",
           "linecolor": "#506784",
           "ticks": "",
           "title": {
            "standoff": 15
           },
           "zerolinecolor": "#283442",
           "zerolinewidth": 2
          }
         }
        },
        "title": {
         "text": "Expenses Map by Category"
        },
        "width": 750
       }
      },
      "text/html": [
       "<div>                            <div id=\"69506215-d418-4e9e-9ce8-80a2571ab893\" class=\"plotly-graph-div\" style=\"height:500px; width:750px;\"></div>            <script type=\"text/javascript\">                require([\"plotly\"], function(Plotly) {                    window.PLOTLYENV=window.PLOTLYENV || {};                                    if (document.getElementById(\"69506215-d418-4e9e-9ce8-80a2571ab893\")) {                    Plotly.newPlot(                        \"69506215-d418-4e9e-9ce8-80a2571ab893\",                        [{\"hoverlabel\":{\"font\":{\"size\":15}},\"hovertemplate\":\"$%{y} On %{x} \\u003cextra\\u003e\\u003c\\u002fextra\\u003e: Subcategory: %{hovertext}\",\"hovertext\":[\"Electronics\",\"Home Items\",\"Electronics\",\"Home Items\",\"Electronics\",\"Electronics\",\"Electronics\",\"Electronics\",\"Electronics\",\"Electronics\",\"Electronics\",\"Coleccionables\",\"Coleccionables\",\"Electronics\",\"Home Items\",\"Coleccionables\",\"Electronics\",\"Electronics\",\"Electronics\",\"Electronics\",\"Electronics\",\"Cleanliness\",\"Electronics\",\"Beauty\",\"Electronics\",\"Beauty\",\"Electronics\",\"Beauty\",\"Cleanliness\",\"Electronics\",\"Electronics\",\"Coleccionables\",\"Beauty\",\"Electronics\",\"Cleanliness\",\"Cleanliness\",\"Electronics\",\"Beauty\",\"Electronics\",\"Cleanliness\",\"Home Items\",\"Home Items\",\"Electronics\",\"Electronics\",\"Electronics\",\"Electronics\",\"Electronics\",\"Electronics\",\"Electronics\"],\"marker\":{\"color\":[\"#ef5350\",\"#ef5350\",\"#ef5350\",\"#ef5350\",\"#ef5350\",\"#ef5350\",\"#ef5350\",\"#ef5350\",\"#ef5350\",\"#ef5350\",\"#ef5350\",\"#ef5350\",\"#ef5350\",\"#ef5350\",\"#ef5350\",\"#ef5350\",\"#ef5350\",\"#ef5350\",\"#ef5350\",\"#ef5350\",\"#ef5350\",\"#ef5350\",\"#ef5350\",\"#ef5350\",\"#ef5350\",\"#ef5350\",\"#ef5350\",\"#ef5350\",\"#ef5350\",\"#ef5350\",\"#ef5350\",\"#ef5350\",\"#ef5350\",\"#ef5350\",\"#ef5350\",\"#ef5350\",\"#ef5350\",\"#ef5350\",\"#ef5350\",\"#ef5350\",\"#ef5350\",\"#ef5350\",\"#ef5350\",\"#ef5350\",\"#ef5350\",\"#ef5350\",\"#ef5350\",\"#ef5350\",\"#ef5350\"],\"size\":[10.0,2.8,2.2,1.4,16.0,6.0,0.2,7.0,6.0,6.0,12.0,5.2,2.6,0.4,9.4,0.4,0.4,6.0,24.0,0.8,0.8,2.4,6.0,0.4,6.0,4.0,4.0,1.6,2.0,6.6,12.0,4.6,4.0,6.6,2.8,4.4,18.0,0.4,10.0,2.0,3.0,8.6,6.4,4.0,4.0,66.0,16.0,4.6,6.0]},\"mode\":\"markers\",\"showlegend\":false,\"x\":[\"2024-01-06T00:00:00\",\"2024-01-15T00:00:00\",\"2024-01-17T00:00:00\",\"2024-01-27T00:00:00\",\"2024-01-31T00:00:00\",\"2024-02-13T00:00:00\",\"2024-02-20T00:00:00\",\"2024-03-01T00:00:00\",\"2024-03-05T00:00:00\",\"2024-03-17T00:00:00\",\"2024-04-03T00:00:00\",\"2024-04-10T00:00:00\",\"2024-04-20T00:00:00\",\"2024-04-26T00:00:00\",\"2024-04-26T00:00:00\",\"2024-04-27T00:00:00\",\"2024-04-27T00:00:00\",\"2024-04-29T00:00:00\",\"2024-05-01T00:00:00\",\"2024-05-02T00:00:00\",\"2024-05-05T00:00:00\",\"2024-05-13T00:00:00\",\"2024-05-29T00:00:00\",\"2024-06-16T00:00:00\",\"2024-06-17T00:00:00\",\"2024-06-23T00:00:00\",\"2024-06-23T00:00:00\",\"2024-07-10T00:00:00\",\"2024-07-13T00:00:00\",\"2024-07-17T00:00:00\",\"2024-08-02T00:00:00\",\"2024-08-04T00:00:00\",\"2024-08-08T00:00:00\",\"2024-08-14T00:00:00\",\"2024-08-17T00:00:00\",\"2024-09-08T00:00:00\",\"2024-09-12T00:00:00\",\"2024-09-30T00:00:00\",\"2024-10-03T00:00:00\",\"2024-10-11T00:00:00\",\"2024-10-11T00:00:00\",\"2024-10-20T00:00:00\",\"2024-10-21T00:00:00\",\"2024-10-27T00:00:00\",\"2024-11-09T00:00:00\",\"2024-11-11T00:00:00\",\"2024-11-12T00:00:00\",\"2024-11-13T00:00:00\",\"2024-11-14T00:00:00\"],\"x0\":[\"Electronics\",\"Home Items\",\"Electronics\",\"Home Items\",\"Electronics\",\"Electronics\",\"Electronics\",\"Electronics\",\"Electronics\",\"Electronics\",\"Electronics\",\"Coleccionables\",\"Coleccionables\",\"Electronics\",\"Home Items\",\"Coleccionables\",\"Electronics\",\"Electronics\",\"Electronics\",\"Electronics\",\"Electronics\",\"Cleanliness\",\"Electronics\",\"Beauty\",\"Electronics\",\"Beauty\",\"Electronics\",\"Beauty\",\"Cleanliness\",\"Electronics\",\"Electronics\",\"Coleccionables\",\"Beauty\",\"Electronics\",\"Cleanliness\",\"Cleanliness\",\"Electronics\",\"Beauty\",\"Electronics\",\"Cleanliness\",\"Home Items\",\"Home Items\",\"Electronics\",\"Electronics\",\"Electronics\",\"Electronics\",\"Electronics\",\"Electronics\",\"Electronics\"],\"y\":[50.0,14.0,11.0,7.0,80.0,30.0,1.0,35.0,30.0,30.0,60.0,26.0,13.0,2.0,47.0,2.0,2.0,30.0,120.0,4.0,4.0,12.0,30.0,2.0,30.0,20.0,20.0,8.0,10.0,33.0,60.0,23.0,20.0,33.0,14.0,22.0,90.0,2.0,50.0,10.0,15.0,43.0,32.0,20.0,20.0,330.0,80.0,23.0,30.0],\"type\":\"scatter\"}],                        {\"height\":500,\"template\":{\"data\":{\"barpolar\":[{\"marker\":{\"line\":{\"color\":\"rgb(17,17,17)\",\"width\":0.5},\"pattern\":{\"fillmode\":\"overlay\",\"size\":10,\"solidity\":0.2}},\"type\":\"barpolar\"}],\"bar\":[{\"error_x\":{\"color\":\"#f2f5fa\"},\"error_y\":{\"color\":\"#f2f5fa\"},\"marker\":{\"line\":{\"color\":\"rgb(17,17,17)\",\"width\":0.5},\"pattern\":{\"fillmode\":\"overlay\",\"size\":10,\"solidity\":0.2}},\"type\":\"bar\"}],\"carpet\":[{\"aaxis\":{\"endlinecolor\":\"#A2B1C6\",\"gridcolor\":\"#506784\",\"linecolor\":\"#506784\",\"minorgridcolor\":\"#506784\",\"startlinecolor\":\"#A2B1C6\"},\"baxis\":{\"endlinecolor\":\"#A2B1C6\",\"gridcolor\":\"#506784\",\"linecolor\":\"#506784\",\"minorgridcolor\":\"#506784\",\"startlinecolor\":\"#A2B1C6\"},\"type\":\"carpet\"}],\"choropleth\":[{\"colorbar\":{\"outlinewidth\":0,\"ticks\":\"\"},\"type\":\"choropleth\"}],\"contourcarpet\":[{\"colorbar\":{\"outlinewidth\":0,\"ticks\":\"\"},\"type\":\"contourcarpet\"}],\"contour\":[{\"colorbar\":{\"outlinewidth\":0,\"ticks\":\"\"},\"colorscale\":[[0.0,\"#0d0887\"],[0.1111111111111111,\"#46039f\"],[0.2222222222222222,\"#7201a8\"],[0.3333333333333333,\"#9c179e\"],[0.4444444444444444,\"#bd3786\"],[0.5555555555555556,\"#d8576b\"],[0.6666666666666666,\"#ed7953\"],[0.7777777777777778,\"#fb9f3a\"],[0.8888888888888888,\"#fdca26\"],[1.0,\"#f0f921\"]],\"type\":\"contour\"}],\"heatmapgl\":[{\"colorbar\":{\"outlinewidth\":0,\"ticks\":\"\"},\"colorscale\":[[0.0,\"#0d0887\"],[0.1111111111111111,\"#46039f\"],[0.2222222222222222,\"#7201a8\"],[0.3333333333333333,\"#9c179e\"],[0.4444444444444444,\"#bd3786\"],[0.5555555555555556,\"#d8576b\"],[0.6666666666666666,\"#ed7953\"],[0.7777777777777778,\"#fb9f3a\"],[0.8888888888888888,\"#fdca26\"],[1.0,\"#f0f921\"]],\"type\":\"heatmapgl\"}],\"heatmap\":[{\"colorbar\":{\"outlinewidth\":0,\"ticks\":\"\"},\"colorscale\":[[0.0,\"#0d0887\"],[0.1111111111111111,\"#46039f\"],[0.2222222222222222,\"#7201a8\"],[0.3333333333333333,\"#9c179e\"],[0.4444444444444444,\"#bd3786\"],[0.5555555555555556,\"#d8576b\"],[0.6666666666666666,\"#ed7953\"],[0.7777777777777778,\"#fb9f3a\"],[0.8888888888888888,\"#fdca26\"],[1.0,\"#f0f921\"]],\"type\":\"heatmap\"}],\"histogram2dcontour\":[{\"colorbar\":{\"outlinewidth\":0,\"ticks\":\"\"},\"colorscale\":[[0.0,\"#0d0887\"],[0.1111111111111111,\"#46039f\"],[0.2222222222222222,\"#7201a8\"],[0.3333333333333333,\"#9c179e\"],[0.4444444444444444,\"#bd3786\"],[0.5555555555555556,\"#d8576b\"],[0.6666666666666666,\"#ed7953\"],[0.7777777777777778,\"#fb9f3a\"],[0.8888888888888888,\"#fdca26\"],[1.0,\"#f0f921\"]],\"type\":\"histogram2dcontour\"}],\"histogram2d\":[{\"colorbar\":{\"outlinewidth\":0,\"ticks\":\"\"},\"colorscale\":[[0.0,\"#0d0887\"],[0.1111111111111111,\"#46039f\"],[0.2222222222222222,\"#7201a8\"],[0.3333333333333333,\"#9c179e\"],[0.4444444444444444,\"#bd3786\"],[0.5555555555555556,\"#d8576b\"],[0.6666666666666666,\"#ed7953\"],[0.7777777777777778,\"#fb9f3a\"],[0.8888888888888888,\"#fdca26\"],[1.0,\"#f0f921\"]],\"type\":\"histogram2d\"}],\"histogram\":[{\"marker\":{\"pattern\":{\"fillmode\":\"overlay\",\"size\":10,\"solidity\":0.2}},\"type\":\"histogram\"}],\"mesh3d\":[{\"colorbar\":{\"outlinewidth\":0,\"ticks\":\"\"},\"type\":\"mesh3d\"}],\"parcoords\":[{\"line\":{\"colorbar\":{\"outlinewidth\":0,\"ticks\":\"\"}},\"type\":\"parcoords\"}],\"pie\":[{\"automargin\":true,\"type\":\"pie\"}],\"scatter3d\":[{\"line\":{\"colorbar\":{\"outlinewidth\":0,\"ticks\":\"\"}},\"marker\":{\"colorbar\":{\"outlinewidth\":0,\"ticks\":\"\"}},\"type\":\"scatter3d\"}],\"scattercarpet\":[{\"marker\":{\"colorbar\":{\"outlinewidth\":0,\"ticks\":\"\"}},\"type\":\"scattercarpet\"}],\"scattergeo\":[{\"marker\":{\"colorbar\":{\"outlinewidth\":0,\"ticks\":\"\"}},\"type\":\"scattergeo\"}],\"scattergl\":[{\"marker\":{\"line\":{\"color\":\"#283442\"}},\"type\":\"scattergl\"}],\"scattermapbox\":[{\"marker\":{\"colorbar\":{\"outlinewidth\":0,\"ticks\":\"\"}},\"type\":\"scattermapbox\"}],\"scatterpolargl\":[{\"marker\":{\"colorbar\":{\"outlinewidth\":0,\"ticks\":\"\"}},\"type\":\"scatterpolargl\"}],\"scatterpolar\":[{\"marker\":{\"colorbar\":{\"outlinewidth\":0,\"ticks\":\"\"}},\"type\":\"scatterpolar\"}],\"scatter\":[{\"marker\":{\"line\":{\"color\":\"#283442\"}},\"type\":\"scatter\"}],\"scatterternary\":[{\"marker\":{\"colorbar\":{\"outlinewidth\":0,\"ticks\":\"\"}},\"type\":\"scatterternary\"}],\"surface\":[{\"colorbar\":{\"outlinewidth\":0,\"ticks\":\"\"},\"colorscale\":[[0.0,\"#0d0887\"],[0.1111111111111111,\"#46039f\"],[0.2222222222222222,\"#7201a8\"],[0.3333333333333333,\"#9c179e\"],[0.4444444444444444,\"#bd3786\"],[0.5555555555555556,\"#d8576b\"],[0.6666666666666666,\"#ed7953\"],[0.7777777777777778,\"#fb9f3a\"],[0.8888888888888888,\"#fdca26\"],[1.0,\"#f0f921\"]],\"type\":\"surface\"}],\"table\":[{\"cells\":{\"fill\":{\"color\":\"#506784\"},\"line\":{\"color\":\"rgb(17,17,17)\"}},\"header\":{\"fill\":{\"color\":\"#2a3f5f\"},\"line\":{\"color\":\"rgb(17,17,17)\"}},\"type\":\"table\"}]},\"layout\":{\"annotationdefaults\":{\"arrowcolor\":\"#f2f5fa\",\"arrowhead\":0,\"arrowwidth\":1},\"autotypenumbers\":\"strict\",\"coloraxis\":{\"colorbar\":{\"outlinewidth\":0,\"ticks\":\"\"}},\"colorscale\":{\"diverging\":[[0,\"#8e0152\"],[0.1,\"#c51b7d\"],[0.2,\"#de77ae\"],[0.3,\"#f1b6da\"],[0.4,\"#fde0ef\"],[0.5,\"#f7f7f7\"],[0.6,\"#e6f5d0\"],[0.7,\"#b8e186\"],[0.8,\"#7fbc41\"],[0.9,\"#4d9221\"],[1,\"#276419\"]],\"sequential\":[[0.0,\"#0d0887\"],[0.1111111111111111,\"#46039f\"],[0.2222222222222222,\"#7201a8\"],[0.3333333333333333,\"#9c179e\"],[0.4444444444444444,\"#bd3786\"],[0.5555555555555556,\"#d8576b\"],[0.6666666666666666,\"#ed7953\"],[0.7777777777777778,\"#fb9f3a\"],[0.8888888888888888,\"#fdca26\"],[1.0,\"#f0f921\"]],\"sequentialminus\":[[0.0,\"#0d0887\"],[0.1111111111111111,\"#46039f\"],[0.2222222222222222,\"#7201a8\"],[0.3333333333333333,\"#9c179e\"],[0.4444444444444444,\"#bd3786\"],[0.5555555555555556,\"#d8576b\"],[0.6666666666666666,\"#ed7953\"],[0.7777777777777778,\"#fb9f3a\"],[0.8888888888888888,\"#fdca26\"],[1.0,\"#f0f921\"]]},\"colorway\":[\"#636efa\",\"#EF553B\",\"#00cc96\",\"#ab63fa\",\"#FFA15A\",\"#19d3f3\",\"#FF6692\",\"#B6E880\",\"#FF97FF\",\"#FECB52\"],\"font\":{\"color\":\"#f2f5fa\"},\"geo\":{\"bgcolor\":\"rgb(17,17,17)\",\"lakecolor\":\"rgb(17,17,17)\",\"landcolor\":\"rgb(17,17,17)\",\"showlakes\":true,\"showland\":true,\"subunitcolor\":\"#506784\"},\"hoverlabel\":{\"align\":\"left\"},\"hovermode\":\"closest\",\"mapbox\":{\"style\":\"dark\"},\"paper_bgcolor\":\"rgb(17,17,17)\",\"plot_bgcolor\":\"rgb(17,17,17)\",\"polar\":{\"angularaxis\":{\"gridcolor\":\"#506784\",\"linecolor\":\"#506784\",\"ticks\":\"\"},\"bgcolor\":\"rgb(17,17,17)\",\"radialaxis\":{\"gridcolor\":\"#506784\",\"linecolor\":\"#506784\",\"ticks\":\"\"}},\"scene\":{\"xaxis\":{\"backgroundcolor\":\"rgb(17,17,17)\",\"gridcolor\":\"#506784\",\"gridwidth\":2,\"linecolor\":\"#506784\",\"showbackground\":true,\"ticks\":\"\",\"zerolinecolor\":\"#C8D4E3\"},\"yaxis\":{\"backgroundcolor\":\"rgb(17,17,17)\",\"gridcolor\":\"#506784\",\"gridwidth\":2,\"linecolor\":\"#506784\",\"showbackground\":true,\"ticks\":\"\",\"zerolinecolor\":\"#C8D4E3\"},\"zaxis\":{\"backgroundcolor\":\"rgb(17,17,17)\",\"gridcolor\":\"#506784\",\"gridwidth\":2,\"linecolor\":\"#506784\",\"showbackground\":true,\"ticks\":\"\",\"zerolinecolor\":\"#C8D4E3\"}},\"shapedefaults\":{\"line\":{\"color\":\"#f2f5fa\"}},\"sliderdefaults\":{\"bgcolor\":\"#C8D4E3\",\"bordercolor\":\"rgb(17,17,17)\",\"borderwidth\":1,\"tickwidth\":0},\"ternary\":{\"aaxis\":{\"gridcolor\":\"#506784\",\"linecolor\":\"#506784\",\"ticks\":\"\"},\"baxis\":{\"gridcolor\":\"#506784\",\"linecolor\":\"#506784\",\"ticks\":\"\"},\"bgcolor\":\"rgb(17,17,17)\",\"caxis\":{\"gridcolor\":\"#506784\",\"linecolor\":\"#506784\",\"ticks\":\"\"}},\"title\":{\"x\":0.05},\"updatemenudefaults\":{\"bgcolor\":\"#506784\",\"borderwidth\":0},\"xaxis\":{\"automargin\":true,\"gridcolor\":\"#283442\",\"linecolor\":\"#506784\",\"ticks\":\"\",\"title\":{\"standoff\":15},\"zerolinecolor\":\"#283442\",\"zerolinewidth\":2},\"yaxis\":{\"automargin\":true,\"gridcolor\":\"#283442\",\"linecolor\":\"#506784\",\"ticks\":\"\",\"title\":{\"standoff\":15},\"zerolinecolor\":\"#283442\",\"zerolinewidth\":2}}},\"title\":{\"text\":\"Expenses Map by Category\"},\"width\":750},                        {\"responsive\": true}                    ).then(function(){\n",
       "                            \n",
       "var gd = document.getElementById('69506215-d418-4e9e-9ce8-80a2571ab893');\n",
       "var x = new MutationObserver(function (mutations, observer) {{\n",
       "        var display = window.getComputedStyle(gd).display;\n",
       "        if (!display || display === 'none') {{\n",
       "            console.log([gd, 'removed!']);\n",
       "            Plotly.purge(gd);\n",
       "            observer.disconnect();\n",
       "        }}\n",
       "}});\n",
       "\n",
       "// Listen for the removal of the full notebook cells\n",
       "var notebookContainer = gd.closest('#notebook-container');\n",
       "if (notebookContainer) {{\n",
       "    x.observe(notebookContainer, {childList: true});\n",
       "}}\n",
       "\n",
       "// Listen for the clearing of the current output cell\n",
       "var outputEl = gd.closest('.output');\n",
       "if (outputEl) {{\n",
       "    x.observe(outputEl, {childList: true});\n",
       "}}\n",
       "\n",
       "                        })                };                });            </script>        </div>"
      ]
     },
     "metadata": {},
     "output_type": "display_data"
    }
   ],
   "source": [
    "def plot_category_map(df: pd.DataFrame, category : str):\n",
    "    \n",
    "    df = df[df[\"income\"] == False]\n",
    "    df = df[df[\"category name\"] == category]\n",
    "    df[\"subcategory name\"] = df[\"subcategory name\"].apply(lambda row: \"None\" if row == \"\" else row)\n",
    "    df = df.groupby(by = [\"date\", \"color\", \"category name\", \"subcategory name\"]).agg({\"amount\": \"sum\"}).reset_index()\n",
    "    \n",
    "    fig = go.Figure(layout = go.Layout(height = 500, width = 750, title = \"Expenses Map by Category\", template = \"plotly_dark\"))\n",
    "    fig.add_trace(go.Scatter(x = df[\"date\"],\n",
    "                             x0= df[\"subcategory name\"],\n",
    "                             y = df[\"amount\"],\n",
    "                             hovertext = df[\"subcategory name\"],\n",
    "                             hoverlabel = dict(font_size = 15),\n",
    "                             hovertemplate = \"$%{y} On %{x} <extra></extra>: Subcategory: %{hovertext}\",\n",
    "                             mode = \"markers\",\n",
    "                             marker_color = df[\"color\"],\n",
    "                             marker_size = df[\"amount\"] / 5,\n",
    "                             showlegend = False))\n",
    "    \n",
    "    return fig\n",
    "\n",
    "plot_category_map(df, \"Shopping\")"
   ]
  }
 ],
 "metadata": {
  "kernelspec": {
   "display_name": "Python 3",
   "language": "python",
   "name": "python3"
  },
  "language_info": {
   "codemirror_mode": {
    "name": "ipython",
    "version": 3
   },
   "file_extension": ".py",
   "mimetype": "text/x-python",
   "name": "python",
   "nbconvert_exporter": "python",
   "pygments_lexer": "ipython3",
   "version": "3.11.10"
  }
 },
 "nbformat": 4,
 "nbformat_minor": 2
}
